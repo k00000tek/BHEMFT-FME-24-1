{
 "cells": [
  {
   "cell_type": "markdown",
   "id": "168d4b91-1e06-424b-839f-646a3157d7e7",
   "metadata": {},
   "source": [
    "# Домашнее задание 3. Продвинутый уровень\n",
    "Выполнила: Назарова Мария"
   ]
  },
  {
   "cell_type": "markdown",
   "id": "798c04e7-8dbb-4da4-a9e2-a3e370b08df5",
   "metadata": {},
   "source": [
    "## Задача 1\n",
    "Используя данные Yahoo Finance, проверьте на стационарность ряд из лог-приростов цены на нефть."
   ]
  },
  {
   "cell_type": "code",
   "execution_count": 3,
   "id": "424cd723-ca6d-4181-8639-b7d80b8c6fa2",
   "metadata": {},
   "outputs": [],
   "source": [
    "# импорт библиотек\n",
    "import pandas as pd\n",
    "import yfinance as yf\n",
    "from statsmodels.tsa.stattools import adfuller\n",
    "import numpy as np"
   ]
  },
  {
   "cell_type": "code",
   "execution_count": 5,
   "id": "04d60279-3e45-43d8-888d-1d5218912709",
   "metadata": {},
   "outputs": [
    {
     "name": "stderr",
     "output_type": "stream",
     "text": [
      "[*********************100%***********************]  1 of 1 completed\n"
     ]
    },
    {
     "data": {
      "text/html": [
       "<div>\n",
       "<style scoped>\n",
       "    .dataframe tbody tr th:only-of-type {\n",
       "        vertical-align: middle;\n",
       "    }\n",
       "\n",
       "    .dataframe tbody tr th {\n",
       "        vertical-align: top;\n",
       "    }\n",
       "\n",
       "    .dataframe thead tr th {\n",
       "        text-align: left;\n",
       "    }\n",
       "\n",
       "    .dataframe thead tr:last-of-type th {\n",
       "        text-align: right;\n",
       "    }\n",
       "</style>\n",
       "<table border=\"1\" class=\"dataframe\">\n",
       "  <thead>\n",
       "    <tr>\n",
       "      <th>Price</th>\n",
       "      <th>Adj Close</th>\n",
       "      <th>Close</th>\n",
       "      <th>High</th>\n",
       "      <th>Low</th>\n",
       "      <th>Open</th>\n",
       "      <th>Volume</th>\n",
       "    </tr>\n",
       "    <tr>\n",
       "      <th>Ticker</th>\n",
       "      <th>BZ=F</th>\n",
       "      <th>BZ=F</th>\n",
       "      <th>BZ=F</th>\n",
       "      <th>BZ=F</th>\n",
       "      <th>BZ=F</th>\n",
       "      <th>BZ=F</th>\n",
       "    </tr>\n",
       "    <tr>\n",
       "      <th>Date</th>\n",
       "      <th></th>\n",
       "      <th></th>\n",
       "      <th></th>\n",
       "      <th></th>\n",
       "      <th></th>\n",
       "      <th></th>\n",
       "    </tr>\n",
       "  </thead>\n",
       "  <tbody>\n",
       "    <tr>\n",
       "      <th>2024-11-14 00:00:00+00:00</th>\n",
       "      <td>72.559998</td>\n",
       "      <td>72.559998</td>\n",
       "      <td>73.220001</td>\n",
       "      <td>71.800003</td>\n",
       "      <td>71.989998</td>\n",
       "      <td>32367</td>\n",
       "    </tr>\n",
       "    <tr>\n",
       "      <th>2024-11-15 00:00:00+00:00</th>\n",
       "      <td>71.040001</td>\n",
       "      <td>71.040001</td>\n",
       "      <td>72.470001</td>\n",
       "      <td>70.839996</td>\n",
       "      <td>72.430000</td>\n",
       "      <td>30126</td>\n",
       "    </tr>\n",
       "    <tr>\n",
       "      <th>2024-11-18 00:00:00+00:00</th>\n",
       "      <td>73.300003</td>\n",
       "      <td>73.300003</td>\n",
       "      <td>73.459999</td>\n",
       "      <td>70.699997</td>\n",
       "      <td>70.879997</td>\n",
       "      <td>30425</td>\n",
       "    </tr>\n",
       "    <tr>\n",
       "      <th>2024-11-19 00:00:00+00:00</th>\n",
       "      <td>73.309998</td>\n",
       "      <td>73.309998</td>\n",
       "      <td>73.870003</td>\n",
       "      <td>72.610001</td>\n",
       "      <td>73.180000</td>\n",
       "      <td>30425</td>\n",
       "    </tr>\n",
       "    <tr>\n",
       "      <th>2024-11-20 00:00:00+00:00</th>\n",
       "      <td>73.510002</td>\n",
       "      <td>73.510002</td>\n",
       "      <td>73.919998</td>\n",
       "      <td>73.160004</td>\n",
       "      <td>73.339996</td>\n",
       "      <td>4621</td>\n",
       "    </tr>\n",
       "  </tbody>\n",
       "</table>\n",
       "</div>"
      ],
      "text/plain": [
       "Price                      Adj Close      Close       High        Low  \\\n",
       "Ticker                          BZ=F       BZ=F       BZ=F       BZ=F   \n",
       "Date                                                                    \n",
       "2024-11-14 00:00:00+00:00  72.559998  72.559998  73.220001  71.800003   \n",
       "2024-11-15 00:00:00+00:00  71.040001  71.040001  72.470001  70.839996   \n",
       "2024-11-18 00:00:00+00:00  73.300003  73.300003  73.459999  70.699997   \n",
       "2024-11-19 00:00:00+00:00  73.309998  73.309998  73.870003  72.610001   \n",
       "2024-11-20 00:00:00+00:00  73.510002  73.510002  73.919998  73.160004   \n",
       "\n",
       "Price                           Open Volume  \n",
       "Ticker                          BZ=F   BZ=F  \n",
       "Date                                         \n",
       "2024-11-14 00:00:00+00:00  71.989998  32367  \n",
       "2024-11-15 00:00:00+00:00  72.430000  30126  \n",
       "2024-11-18 00:00:00+00:00  70.879997  30425  \n",
       "2024-11-19 00:00:00+00:00  73.180000  30425  \n",
       "2024-11-20 00:00:00+00:00  73.339996   4621  "
      ]
     },
     "execution_count": 5,
     "metadata": {},
     "output_type": "execute_result"
    }
   ],
   "source": [
    "# загрузка данных о ценах на нефть с Yahoo Finance за последний год\n",
    "df_brent_oil = yf.download('BZ=F', '2023-11-20', '2024-11-21')\n",
    "df_brent_oil.tail()"
   ]
  },
  {
   "cell_type": "code",
   "execution_count": 6,
   "id": "101950e1-87cd-4e9a-8994-15b8817cfbf2",
   "metadata": {},
   "outputs": [
    {
     "data": {
      "text/html": [
       "<div>\n",
       "<style scoped>\n",
       "    .dataframe tbody tr th:only-of-type {\n",
       "        vertical-align: middle;\n",
       "    }\n",
       "\n",
       "    .dataframe tbody tr th {\n",
       "        vertical-align: top;\n",
       "    }\n",
       "\n",
       "    .dataframe thead tr th {\n",
       "        text-align: left;\n",
       "    }\n",
       "\n",
       "    .dataframe thead tr:last-of-type th {\n",
       "        text-align: right;\n",
       "    }\n",
       "</style>\n",
       "<table border=\"1\" class=\"dataframe\">\n",
       "  <thead>\n",
       "    <tr>\n",
       "      <th>Price</th>\n",
       "      <th>Adj Close</th>\n",
       "      <th>Close</th>\n",
       "      <th>High</th>\n",
       "      <th>Low</th>\n",
       "      <th>Open</th>\n",
       "      <th>Volume</th>\n",
       "      <th>Log_Returns</th>\n",
       "    </tr>\n",
       "    <tr>\n",
       "      <th>Ticker</th>\n",
       "      <th>BZ=F</th>\n",
       "      <th>BZ=F</th>\n",
       "      <th>BZ=F</th>\n",
       "      <th>BZ=F</th>\n",
       "      <th>BZ=F</th>\n",
       "      <th>BZ=F</th>\n",
       "      <th></th>\n",
       "    </tr>\n",
       "    <tr>\n",
       "      <th>Date</th>\n",
       "      <th></th>\n",
       "      <th></th>\n",
       "      <th></th>\n",
       "      <th></th>\n",
       "      <th></th>\n",
       "      <th></th>\n",
       "      <th></th>\n",
       "    </tr>\n",
       "  </thead>\n",
       "  <tbody>\n",
       "    <tr>\n",
       "      <th>2024-11-14 00:00:00+00:00</th>\n",
       "      <td>72.559998</td>\n",
       "      <td>72.559998</td>\n",
       "      <td>73.220001</td>\n",
       "      <td>71.800003</td>\n",
       "      <td>71.989998</td>\n",
       "      <td>32367</td>\n",
       "      <td>0.003866</td>\n",
       "    </tr>\n",
       "    <tr>\n",
       "      <th>2024-11-15 00:00:00+00:00</th>\n",
       "      <td>71.040001</td>\n",
       "      <td>71.040001</td>\n",
       "      <td>72.470001</td>\n",
       "      <td>70.839996</td>\n",
       "      <td>72.430000</td>\n",
       "      <td>30126</td>\n",
       "      <td>-0.021171</td>\n",
       "    </tr>\n",
       "    <tr>\n",
       "      <th>2024-11-18 00:00:00+00:00</th>\n",
       "      <td>73.300003</td>\n",
       "      <td>73.300003</td>\n",
       "      <td>73.459999</td>\n",
       "      <td>70.699997</td>\n",
       "      <td>70.879997</td>\n",
       "      <td>30425</td>\n",
       "      <td>0.031318</td>\n",
       "    </tr>\n",
       "    <tr>\n",
       "      <th>2024-11-19 00:00:00+00:00</th>\n",
       "      <td>73.309998</td>\n",
       "      <td>73.309998</td>\n",
       "      <td>73.870003</td>\n",
       "      <td>72.610001</td>\n",
       "      <td>73.180000</td>\n",
       "      <td>30425</td>\n",
       "      <td>0.000136</td>\n",
       "    </tr>\n",
       "    <tr>\n",
       "      <th>2024-11-20 00:00:00+00:00</th>\n",
       "      <td>73.510002</td>\n",
       "      <td>73.510002</td>\n",
       "      <td>73.919998</td>\n",
       "      <td>73.160004</td>\n",
       "      <td>73.339996</td>\n",
       "      <td>4621</td>\n",
       "      <td>0.002724</td>\n",
       "    </tr>\n",
       "  </tbody>\n",
       "</table>\n",
       "</div>"
      ],
      "text/plain": [
       "Price                      Adj Close      Close       High        Low  \\\n",
       "Ticker                          BZ=F       BZ=F       BZ=F       BZ=F   \n",
       "Date                                                                    \n",
       "2024-11-14 00:00:00+00:00  72.559998  72.559998  73.220001  71.800003   \n",
       "2024-11-15 00:00:00+00:00  71.040001  71.040001  72.470001  70.839996   \n",
       "2024-11-18 00:00:00+00:00  73.300003  73.300003  73.459999  70.699997   \n",
       "2024-11-19 00:00:00+00:00  73.309998  73.309998  73.870003  72.610001   \n",
       "2024-11-20 00:00:00+00:00  73.510002  73.510002  73.919998  73.160004   \n",
       "\n",
       "Price                           Open Volume Log_Returns  \n",
       "Ticker                          BZ=F   BZ=F              \n",
       "Date                                                     \n",
       "2024-11-14 00:00:00+00:00  71.989998  32367    0.003866  \n",
       "2024-11-15 00:00:00+00:00  72.430000  30126   -0.021171  \n",
       "2024-11-18 00:00:00+00:00  70.879997  30425    0.031318  \n",
       "2024-11-19 00:00:00+00:00  73.180000  30425    0.000136  \n",
       "2024-11-20 00:00:00+00:00  73.339996   4621    0.002724  "
      ]
     },
     "execution_count": 6,
     "metadata": {},
     "output_type": "execute_result"
    }
   ],
   "source": [
    "# добавляем столбец лог-приростов для всех дней (кроме 1 в рассматриваемом периоде)\n",
    "df_brent_oil['Log_Returns'] = np.log(df_brent_oil['Close'] / df_brent_oil['Close'].shift(1))\n",
    "log_returns = df_brent_oil['Log_Returns'].dropna()\n",
    "df_brent_oil.tail()"
   ]
  },
  {
   "cell_type": "markdown",
   "id": "c491e125-2b46-4f10-85a4-b83bcf0ba01f",
   "metadata": {},
   "source": [
    "Применем расширенный тест Дики-Фуллера. \n",
    "Выдвигаем гипотезы:\n",
    "* H0 - ряд нестационарен (авторегрессионное уравнение имеет ненулевые корни)\n",
    "* H1 - ряд стационарен"
   ]
  },
  {
   "cell_type": "code",
   "execution_count": 10,
   "id": "d4c7ca9c-21e9-4f20-809c-34dbfd20b802",
   "metadata": {},
   "outputs": [
    {
     "name": "stdout",
     "output_type": "stream",
     "text": [
      "ADF Statistic: -8.222940542908018\n",
      "p-value: 6.357368699443635e-13\n",
      "Critical Values: {'1%': -3.457105309726321, '5%': -2.873313676101283, '10%': -2.5730443824681606}\n"
     ]
    }
   ],
   "source": [
    "# применим тест Дики-Фуллера и запишем результаты\n",
    "adf_result = adfuller(log_returns)\n",
    "print(\"ADF Statistic:\", adf_result[0])\n",
    "print(\"p-value:\", adf_result[1])\n",
    "print(\"Critical Values:\", adf_result[4])"
   ]
  },
  {
   "cell_type": "code",
   "execution_count": 12,
   "id": "2abac19a-4ea4-47ce-a70f-1acd8f1ac4f7",
   "metadata": {},
   "outputs": [
    {
     "name": "stdout",
     "output_type": "stream",
     "text": [
      "Так как p-value = 6.357368699443635e-13 < 0.01: гипотеза H0 отвергается, ряд стационарен\n"
     ]
    }
   ],
   "source": [
    "# сравним p-value с уровнем значимости 1% гипотезы H0\n",
    "print(f'Так как p-value = {adf_result[1]} < 0.01: гипотеза H0 отвергается, ряд стационарен')"
   ]
  },
  {
   "cell_type": "markdown",
   "id": "b5491077-a468-4c74-baed-1a7d861cc3df",
   "metadata": {},
   "source": [
    "## Ответ: ряд лог-приростов цен на нефть стационарен."
   ]
  },
  {
   "cell_type": "markdown",
   "id": "285e0b71-3a4b-400c-96d4-f584a6cdc272",
   "metadata": {},
   "source": [
    "## Задача 2\n",
    "Используя данные Yahoo Finance, постройте линейную регрессию курса доллара США к рублю к цене на нефть и проверьте значимость параметров."
   ]
  },
  {
   "cell_type": "code",
   "execution_count": 16,
   "id": "ccbb6000-4a9d-4370-925f-69094fe68e6e",
   "metadata": {},
   "outputs": [],
   "source": [
    "# импорт библиотек\n",
    "import statsmodels.api as sm"
   ]
  },
  {
   "cell_type": "code",
   "execution_count": 18,
   "id": "ce5a82a9-69b4-4680-aa2e-7cac34687876",
   "metadata": {},
   "outputs": [
    {
     "name": "stderr",
     "output_type": "stream",
     "text": [
      "[*********************100%***********************]  1 of 1 completed\n"
     ]
    },
    {
     "data": {
      "text/html": [
       "<div>\n",
       "<style scoped>\n",
       "    .dataframe tbody tr th:only-of-type {\n",
       "        vertical-align: middle;\n",
       "    }\n",
       "\n",
       "    .dataframe tbody tr th {\n",
       "        vertical-align: top;\n",
       "    }\n",
       "\n",
       "    .dataframe thead tr th {\n",
       "        text-align: left;\n",
       "    }\n",
       "\n",
       "    .dataframe thead tr:last-of-type th {\n",
       "        text-align: right;\n",
       "    }\n",
       "</style>\n",
       "<table border=\"1\" class=\"dataframe\">\n",
       "  <thead>\n",
       "    <tr>\n",
       "      <th>Price</th>\n",
       "      <th>Adj Close</th>\n",
       "      <th>Close</th>\n",
       "      <th>High</th>\n",
       "      <th>Low</th>\n",
       "      <th>Open</th>\n",
       "      <th>Volume</th>\n",
       "    </tr>\n",
       "    <tr>\n",
       "      <th>Ticker</th>\n",
       "      <th>RUB=X</th>\n",
       "      <th>RUB=X</th>\n",
       "      <th>RUB=X</th>\n",
       "      <th>RUB=X</th>\n",
       "      <th>RUB=X</th>\n",
       "      <th>RUB=X</th>\n",
       "    </tr>\n",
       "    <tr>\n",
       "      <th>Date</th>\n",
       "      <th></th>\n",
       "      <th></th>\n",
       "      <th></th>\n",
       "      <th></th>\n",
       "      <th></th>\n",
       "      <th></th>\n",
       "    </tr>\n",
       "  </thead>\n",
       "  <tbody>\n",
       "    <tr>\n",
       "      <th>2024-11-14 00:00:00+00:00</th>\n",
       "      <td>98.494400</td>\n",
       "      <td>98.494400</td>\n",
       "      <td>100.754845</td>\n",
       "      <td>98.472870</td>\n",
       "      <td>98.494339</td>\n",
       "      <td>0</td>\n",
       "    </tr>\n",
       "    <tr>\n",
       "      <th>2024-11-15 00:00:00+00:00</th>\n",
       "      <td>99.578423</td>\n",
       "      <td>99.578423</td>\n",
       "      <td>100.399979</td>\n",
       "      <td>98.983589</td>\n",
       "      <td>99.593552</td>\n",
       "      <td>0</td>\n",
       "    </tr>\n",
       "    <tr>\n",
       "      <th>2024-11-18 00:00:00+00:00</th>\n",
       "      <td>99.981674</td>\n",
       "      <td>99.981674</td>\n",
       "      <td>100.552933</td>\n",
       "      <td>99.621208</td>\n",
       "      <td>99.964592</td>\n",
       "      <td>0</td>\n",
       "    </tr>\n",
       "    <tr>\n",
       "      <th>2024-11-19 00:00:00+00:00</th>\n",
       "      <td>99.745811</td>\n",
       "      <td>99.745811</td>\n",
       "      <td>101.085106</td>\n",
       "      <td>99.724625</td>\n",
       "      <td>99.743454</td>\n",
       "      <td>0</td>\n",
       "    </tr>\n",
       "    <tr>\n",
       "      <th>2024-11-20 00:00:00+00:00</th>\n",
       "      <td>100.263100</td>\n",
       "      <td>100.263100</td>\n",
       "      <td>100.550003</td>\n",
       "      <td>99.724998</td>\n",
       "      <td>99.724998</td>\n",
       "      <td>0</td>\n",
       "    </tr>\n",
       "  </tbody>\n",
       "</table>\n",
       "</div>"
      ],
      "text/plain": [
       "Price                       Adj Close       Close        High        Low  \\\n",
       "Ticker                          RUB=X       RUB=X       RUB=X      RUB=X   \n",
       "Date                                                                       \n",
       "2024-11-14 00:00:00+00:00   98.494400   98.494400  100.754845  98.472870   \n",
       "2024-11-15 00:00:00+00:00   99.578423   99.578423  100.399979  98.983589   \n",
       "2024-11-18 00:00:00+00:00   99.981674   99.981674  100.552933  99.621208   \n",
       "2024-11-19 00:00:00+00:00   99.745811   99.745811  101.085106  99.724625   \n",
       "2024-11-20 00:00:00+00:00  100.263100  100.263100  100.550003  99.724998   \n",
       "\n",
       "Price                           Open Volume  \n",
       "Ticker                         RUB=X  RUB=X  \n",
       "Date                                         \n",
       "2024-11-14 00:00:00+00:00  98.494339      0  \n",
       "2024-11-15 00:00:00+00:00  99.593552      0  \n",
       "2024-11-18 00:00:00+00:00  99.964592      0  \n",
       "2024-11-19 00:00:00+00:00  99.743454      0  \n",
       "2024-11-20 00:00:00+00:00  99.724998      0  "
      ]
     },
     "execution_count": 18,
     "metadata": {},
     "output_type": "execute_result"
    }
   ],
   "source": [
    "# загрузка данных о ценах на нефть с Yahoo Finance за последний год\n",
    "df_usd_rub = yf.download('RUB=X', '2023-11-20', '2024-11-21')\n",
    "df_usd_rub.tail()"
   ]
  },
  {
   "cell_type": "code",
   "execution_count": 20,
   "id": "e777a7cc-0361-4892-a049-ea6ca4b255f0",
   "metadata": {},
   "outputs": [],
   "source": [
    "# установим соответствие между ценами на нефть и курсом доллара США к рублю по дням\n",
    "df = pd.concat([df_brent_oil['Close']['BZ=F'].dropna(), df_usd_rub['Close']['RUB=X'].dropna()], axis=1, join=\"inner\")"
   ]
  },
  {
   "cell_type": "code",
   "execution_count": 22,
   "id": "6de24a1c-e827-4f79-bc23-f99bc7a1cf55",
   "metadata": {},
   "outputs": [],
   "source": [
    "# подготовка данных модели\n",
    "Y = df['RUB=X'].copy()\n",
    "X = df['BZ=F'].copy()\n",
    "X_constant = sm.add_constant(X)"
   ]
  },
  {
   "cell_type": "code",
   "execution_count": 24,
   "id": "a535dfd9-d51c-48f2-bb35-340ac08fc930",
   "metadata": {},
   "outputs": [],
   "source": [
    "# создание модели линейной регрессии\n",
    "lin_reg = sm.OLS(Y,X_constant).fit()"
   ]
  },
  {
   "cell_type": "code",
   "execution_count": 26,
   "id": "d3cd0b3b-46de-42bc-87a5-5d76b9d625d5",
   "metadata": {},
   "outputs": [
    {
     "data": {
      "text/html": [
       "<table class=\"simpletable\">\n",
       "<caption>OLS Regression Results</caption>\n",
       "<tr>\n",
       "  <th>Dep. Variable:</th>          <td>RUB=X</td>      <th>  R-squared:         </th> <td>   0.087</td>\n",
       "</tr>\n",
       "<tr>\n",
       "  <th>Model:</th>                   <td>OLS</td>       <th>  Adj. R-squared:    </th> <td>   0.083</td>\n",
       "</tr>\n",
       "<tr>\n",
       "  <th>Method:</th>             <td>Least Squares</td>  <th>  F-statistic:       </th> <td>   23.98</td>\n",
       "</tr>\n",
       "<tr>\n",
       "  <th>Date:</th>             <td>Wed, 20 Nov 2024</td> <th>  Prob (F-statistic):</th> <td>1.74e-06</td>\n",
       "</tr>\n",
       "<tr>\n",
       "  <th>Time:</th>                 <td>13:29:21</td>     <th>  Log-Likelihood:    </th> <td> -643.48</td>\n",
       "</tr>\n",
       "<tr>\n",
       "  <th>No. Observations:</th>      <td>   254</td>      <th>  AIC:               </th> <td>   1291.</td>\n",
       "</tr>\n",
       "<tr>\n",
       "  <th>Df Residuals:</th>          <td>   252</td>      <th>  BIC:               </th> <td>   1298.</td>\n",
       "</tr>\n",
       "<tr>\n",
       "  <th>Df Model:</th>              <td>     1</td>      <th>                     </th>     <td> </td>   \n",
       "</tr>\n",
       "<tr>\n",
       "  <th>Covariance Type:</th>      <td>nonrobust</td>    <th>                     </th>     <td> </td>   \n",
       "</tr>\n",
       "</table>\n",
       "<table class=\"simpletable\">\n",
       "<tr>\n",
       "    <td></td>       <th>coef</th>     <th>std err</th>      <th>t</th>      <th>P>|t|</th>  <th>[0.025</th>    <th>0.975]</th>  \n",
       "</tr>\n",
       "<tr>\n",
       "  <th>const</th> <td>  106.4552</td> <td>    3.118</td> <td>   34.145</td> <td> 0.000</td> <td>  100.315</td> <td>  112.595</td>\n",
       "</tr>\n",
       "<tr>\n",
       "  <th>BZ=F</th>  <td>   -0.1895</td> <td>    0.039</td> <td>   -4.897</td> <td> 0.000</td> <td>   -0.266</td> <td>   -0.113</td>\n",
       "</tr>\n",
       "</table>\n",
       "<table class=\"simpletable\">\n",
       "<tr>\n",
       "  <th>Omnibus:</th>       <td> 2.836</td> <th>  Durbin-Watson:     </th> <td>   0.120</td>\n",
       "</tr>\n",
       "<tr>\n",
       "  <th>Prob(Omnibus):</th> <td> 0.242</td> <th>  Jarque-Bera (JB):  </th> <td>   2.388</td>\n",
       "</tr>\n",
       "<tr>\n",
       "  <th>Skew:</th>          <td> 0.127</td> <th>  Prob(JB):          </th> <td>   0.303</td>\n",
       "</tr>\n",
       "<tr>\n",
       "  <th>Kurtosis:</th>      <td> 2.598</td> <th>  Cond. No.          </th> <td>1.31e+03</td>\n",
       "</tr>\n",
       "</table><br/><br/>Notes:<br/>[1] Standard Errors assume that the covariance matrix of the errors is correctly specified.<br/>[2] The condition number is large, 1.31e+03. This might indicate that there are<br/>strong multicollinearity or other numerical problems."
      ],
      "text/latex": [
       "\\begin{center}\n",
       "\\begin{tabular}{lclc}\n",
       "\\toprule\n",
       "\\textbf{Dep. Variable:}    &      RUB=X       & \\textbf{  R-squared:         } &     0.087   \\\\\n",
       "\\textbf{Model:}            &       OLS        & \\textbf{  Adj. R-squared:    } &     0.083   \\\\\n",
       "\\textbf{Method:}           &  Least Squares   & \\textbf{  F-statistic:       } &     23.98   \\\\\n",
       "\\textbf{Date:}             & Wed, 20 Nov 2024 & \\textbf{  Prob (F-statistic):} &  1.74e-06   \\\\\n",
       "\\textbf{Time:}             &     13:29:21     & \\textbf{  Log-Likelihood:    } &   -643.48   \\\\\n",
       "\\textbf{No. Observations:} &         254      & \\textbf{  AIC:               } &     1291.   \\\\\n",
       "\\textbf{Df Residuals:}     &         252      & \\textbf{  BIC:               } &     1298.   \\\\\n",
       "\\textbf{Df Model:}         &           1      & \\textbf{                     } &             \\\\\n",
       "\\textbf{Covariance Type:}  &    nonrobust     & \\textbf{                     } &             \\\\\n",
       "\\bottomrule\n",
       "\\end{tabular}\n",
       "\\begin{tabular}{lcccccc}\n",
       "               & \\textbf{coef} & \\textbf{std err} & \\textbf{t} & \\textbf{P$> |$t$|$} & \\textbf{[0.025} & \\textbf{0.975]}  \\\\\n",
       "\\midrule\n",
       "\\textbf{const} &     106.4552  &        3.118     &    34.145  &         0.000        &      100.315    &      112.595     \\\\\n",
       "\\textbf{BZ=F}  &      -0.1895  &        0.039     &    -4.897  &         0.000        &       -0.266    &       -0.113     \\\\\n",
       "\\bottomrule\n",
       "\\end{tabular}\n",
       "\\begin{tabular}{lclc}\n",
       "\\textbf{Omnibus:}       &  2.836 & \\textbf{  Durbin-Watson:     } &    0.120  \\\\\n",
       "\\textbf{Prob(Omnibus):} &  0.242 & \\textbf{  Jarque-Bera (JB):  } &    2.388  \\\\\n",
       "\\textbf{Skew:}          &  0.127 & \\textbf{  Prob(JB):          } &    0.303  \\\\\n",
       "\\textbf{Kurtosis:}      &  2.598 & \\textbf{  Cond. No.          } & 1.31e+03  \\\\\n",
       "\\bottomrule\n",
       "\\end{tabular}\n",
       "%\\caption{OLS Regression Results}\n",
       "\\end{center}\n",
       "\n",
       "Notes: \\newline\n",
       " [1] Standard Errors assume that the covariance matrix of the errors is correctly specified. \\newline\n",
       " [2] The condition number is large, 1.31e+03. This might indicate that there are \\newline\n",
       " strong multicollinearity or other numerical problems."
      ],
      "text/plain": [
       "<class 'statsmodels.iolib.summary.Summary'>\n",
       "\"\"\"\n",
       "                            OLS Regression Results                            \n",
       "==============================================================================\n",
       "Dep. Variable:                  RUB=X   R-squared:                       0.087\n",
       "Model:                            OLS   Adj. R-squared:                  0.083\n",
       "Method:                 Least Squares   F-statistic:                     23.98\n",
       "Date:                Wed, 20 Nov 2024   Prob (F-statistic):           1.74e-06\n",
       "Time:                        13:29:21   Log-Likelihood:                -643.48\n",
       "No. Observations:                 254   AIC:                             1291.\n",
       "Df Residuals:                     252   BIC:                             1298.\n",
       "Df Model:                           1                                         \n",
       "Covariance Type:            nonrobust                                         \n",
       "==============================================================================\n",
       "                 coef    std err          t      P>|t|      [0.025      0.975]\n",
       "------------------------------------------------------------------------------\n",
       "const        106.4552      3.118     34.145      0.000     100.315     112.595\n",
       "BZ=F          -0.1895      0.039     -4.897      0.000      -0.266      -0.113\n",
       "==============================================================================\n",
       "Omnibus:                        2.836   Durbin-Watson:                   0.120\n",
       "Prob(Omnibus):                  0.242   Jarque-Bera (JB):                2.388\n",
       "Skew:                           0.127   Prob(JB):                        0.303\n",
       "Kurtosis:                       2.598   Cond. No.                     1.31e+03\n",
       "==============================================================================\n",
       "\n",
       "Notes:\n",
       "[1] Standard Errors assume that the covariance matrix of the errors is correctly specified.\n",
       "[2] The condition number is large, 1.31e+03. This might indicate that there are\n",
       "strong multicollinearity or other numerical problems.\n",
       "\"\"\""
      ]
     },
     "execution_count": 26,
     "metadata": {},
     "output_type": "execute_result"
    }
   ],
   "source": [
    "# выведем результаты регрессионного анализа\n",
    "lin_reg.summary()"
   ]
  },
  {
   "cell_type": "code",
   "execution_count": 28,
   "id": "5e8b1117-d7b6-4ece-b275-c6918c0b0a7a",
   "metadata": {},
   "outputs": [
    {
     "name": "stdout",
     "output_type": "stream",
     "text": [
      "R2 :    0.08690114666010229\n",
      "R2adj : 0.0832777385119281\n",
      "Parameter coefficients :\n",
      "const    106.455235\n",
      "BZ=F      -0.189544\n",
      "dtype: float64\n"
     ]
    }
   ],
   "source": [
    "# выведем коэффициенты детерминации и коэффициенты параметров\n",
    "print(f'R2 :    {lin_reg.rsquared}')\n",
    "print(f'R2adj : {lin_reg.rsquared_adj}')\n",
    "print(f'Parameter coefficients :\\n{lin_reg.params}')"
   ]
  },
  {
   "cell_type": "markdown",
   "id": "809ae748-0ef7-433b-a071-b595d62b6ff7",
   "metadata": {},
   "source": [
    "Проверим значимость параметров.\n",
    "Выдвигаем гипотезы для каждого параметра:\n",
    "* H0: коэффициент = 0\n",
    "* H1: коэффициент != 0"
   ]
  },
  {
   "cell_type": "code",
   "execution_count": 31,
   "id": "ad2e929d-8fcd-4e00-844a-f134e64cc1bf",
   "metadata": {},
   "outputs": [
    {
     "name": "stdout",
     "output_type": "stream",
     "text": [
      "                             Test for Constraints                             \n",
      "==============================================================================\n",
      "                 coef    std err          t      P>|t|      [0.025      0.975]\n",
      "------------------------------------------------------------------------------\n",
      "c0           106.4552      3.118     34.145      0.000     100.315     112.595\n",
      "c1            -0.1895      0.039    -30.734      0.000      -0.266      -0.113\n",
      "==============================================================================\n"
     ]
    }
   ],
   "source": [
    "# отдельно выведем результаты t-теста значимости параметров\n",
    "print(lin_reg.t_test('const = 0, BZ=F = 1'))"
   ]
  },
  {
   "cell_type": "code",
   "execution_count": 33,
   "id": "58aba5ce-6a4d-4096-b47e-7599528e580c",
   "metadata": {},
   "outputs": [
    {
     "name": "stdout",
     "output_type": "stream",
     "text": [
      "Гипотезы H0 отвергаются, так как для параметров:\n",
      "const   : p-value = 1.6327593157581568e-96 < 0.05\n",
      "X(BZ=F) : p-value = 1.738294301390374e-06 < 0.05\n",
      "Оба параметра являются значимыми.\n"
     ]
    }
   ],
   "source": [
    "# сравним p-value с уровнем значимости 5% гипотезы H0\n",
    "print('Гипотезы H0 отвергаются, так как для параметров:')\n",
    "print(f'const   : p-value = {lin_reg.pvalues.iloc[0]} < 0.05')\n",
    "print(f'X(BZ=F) : p-value = {lin_reg.pvalues.iloc[1]} < 0.05')\n",
    "print('Оба параметра являются значимыми.')"
   ]
  },
  {
   "cell_type": "markdown",
   "id": "c2f49c0e-1b6c-49f9-bf9b-3f9a6427ea62",
   "metadata": {},
   "source": [
    "Проверим значимость модели.\n",
    "Выдвигаем гипотезы:\n",
    "* H0: все коэффициенты = 0\n",
    "* H1: все коэффициенты != 0"
   ]
  },
  {
   "cell_type": "code",
   "execution_count": 36,
   "id": "89012c05-a1b7-4c34-987b-f2490c810e47",
   "metadata": {},
   "outputs": [
    {
     "name": "stdout",
     "output_type": "stream",
     "text": [
      "Так как f-value = 23.983261919828443 > 1.7382943013904573e-06 = f-value(cr), гипотеза H0 отвергается, модель значима.\n"
     ]
    }
   ],
   "source": [
    "# сравним результат F-теста с критическим значением статситики Фишера\n",
    "print(f'Так как f-value = {lin_reg.fvalue} > {lin_reg.f_pvalue} = f-value(cr), гипотеза H0 отвергается, модель значима.')"
   ]
  },
  {
   "cell_type": "markdown",
   "id": "cf186068-00ff-4876-8c14-95827b3c2c0e",
   "metadata": {},
   "source": [
    "## Ответ: лин. регрессия курса доллара США к рублю к цене на нефть построена и все её параметры значимы."
   ]
  },
  {
   "cell_type": "markdown",
   "id": "e914a54a-edb4-409f-95cf-f5c4880662d7",
   "metadata": {},
   "source": [
    "## Задача 3\n",
    "Постройте линейную регрессию логарифма курса доллара США к рублю к логарифму цены на нефть и проверьте значимость параметров."
   ]
  },
  {
   "cell_type": "code",
   "execution_count": 40,
   "id": "77b64edc-942b-4347-b408-34ee6657bf8e",
   "metadata": {},
   "outputs": [
    {
     "data": {
      "text/html": [
       "<div>\n",
       "<style scoped>\n",
       "    .dataframe tbody tr th:only-of-type {\n",
       "        vertical-align: middle;\n",
       "    }\n",
       "\n",
       "    .dataframe tbody tr th {\n",
       "        vertical-align: top;\n",
       "    }\n",
       "\n",
       "    .dataframe thead th {\n",
       "        text-align: right;\n",
       "    }\n",
       "</style>\n",
       "<table border=\"1\" class=\"dataframe\">\n",
       "  <thead>\n",
       "    <tr style=\"text-align: right;\">\n",
       "      <th></th>\n",
       "      <th>BZ=F</th>\n",
       "      <th>RUB=X</th>\n",
       "      <th>Log_BZ=F</th>\n",
       "      <th>Log_RUB=X</th>\n",
       "    </tr>\n",
       "    <tr>\n",
       "      <th>Date</th>\n",
       "      <th></th>\n",
       "      <th></th>\n",
       "      <th></th>\n",
       "      <th></th>\n",
       "    </tr>\n",
       "  </thead>\n",
       "  <tbody>\n",
       "    <tr>\n",
       "      <th>2024-11-14 00:00:00+00:00</th>\n",
       "      <td>72.559998</td>\n",
       "      <td>98.494400</td>\n",
       "      <td>4.284414</td>\n",
       "      <td>4.590000</td>\n",
       "    </tr>\n",
       "    <tr>\n",
       "      <th>2024-11-15 00:00:00+00:00</th>\n",
       "      <td>71.040001</td>\n",
       "      <td>99.578423</td>\n",
       "      <td>4.263243</td>\n",
       "      <td>4.600946</td>\n",
       "    </tr>\n",
       "    <tr>\n",
       "      <th>2024-11-18 00:00:00+00:00</th>\n",
       "      <td>73.300003</td>\n",
       "      <td>99.981674</td>\n",
       "      <td>4.294561</td>\n",
       "      <td>4.604987</td>\n",
       "    </tr>\n",
       "    <tr>\n",
       "      <th>2024-11-19 00:00:00+00:00</th>\n",
       "      <td>73.309998</td>\n",
       "      <td>99.745811</td>\n",
       "      <td>4.294697</td>\n",
       "      <td>4.602625</td>\n",
       "    </tr>\n",
       "    <tr>\n",
       "      <th>2024-11-20 00:00:00+00:00</th>\n",
       "      <td>73.510002</td>\n",
       "      <td>100.263100</td>\n",
       "      <td>4.297421</td>\n",
       "      <td>4.607798</td>\n",
       "    </tr>\n",
       "  </tbody>\n",
       "</table>\n",
       "</div>"
      ],
      "text/plain": [
       "                                BZ=F       RUB=X  Log_BZ=F  Log_RUB=X\n",
       "Date                                                                 \n",
       "2024-11-14 00:00:00+00:00  72.559998   98.494400  4.284414   4.590000\n",
       "2024-11-15 00:00:00+00:00  71.040001   99.578423  4.263243   4.600946\n",
       "2024-11-18 00:00:00+00:00  73.300003   99.981674  4.294561   4.604987\n",
       "2024-11-19 00:00:00+00:00  73.309998   99.745811  4.294697   4.602625\n",
       "2024-11-20 00:00:00+00:00  73.510002  100.263100  4.297421   4.607798"
      ]
     },
     "execution_count": 40,
     "metadata": {},
     "output_type": "execute_result"
    }
   ],
   "source": [
    "# добавляем столбцы логарифмов курса доллара США к рублю и логарифма цены на нефть\n",
    "df['Log_BZ=F'] = np.log(df['BZ=F'])\n",
    "df['Log_RUB=X'] = np.log(df['RUB=X'])\n",
    "df.tail()"
   ]
  },
  {
   "cell_type": "code",
   "execution_count": 42,
   "id": "5cdaa238-c9d9-41a5-950f-55170bce8cf5",
   "metadata": {},
   "outputs": [],
   "source": [
    "# подготовка данных модели\n",
    "YL = df['Log_RUB=X'].copy()\n",
    "XL = df['Log_BZ=F'].copy()\n",
    "XL_constant = sm.add_constant(XL)"
   ]
  },
  {
   "cell_type": "code",
   "execution_count": 44,
   "id": "010a5218-c615-4e9e-b302-18ba30c5d99b",
   "metadata": {},
   "outputs": [],
   "source": [
    "# создание модели линейной регрессии\n",
    "lin_reg_log = sm.OLS(YL,XL_constant).fit()"
   ]
  },
  {
   "cell_type": "code",
   "execution_count": 46,
   "id": "339c751c-9497-471e-be41-4711e97fe2c4",
   "metadata": {},
   "outputs": [
    {
     "data": {
      "text/html": [
       "<table class=\"simpletable\">\n",
       "<caption>OLS Regression Results</caption>\n",
       "<tr>\n",
       "  <th>Dep. Variable:</th>        <td>Log_RUB=X</td>    <th>  R-squared:         </th> <td>   0.090</td>\n",
       "</tr>\n",
       "<tr>\n",
       "  <th>Model:</th>                   <td>OLS</td>       <th>  Adj. R-squared:    </th> <td>   0.086</td>\n",
       "</tr>\n",
       "<tr>\n",
       "  <th>Method:</th>             <td>Least Squares</td>  <th>  F-statistic:       </th> <td>   24.93</td>\n",
       "</tr>\n",
       "<tr>\n",
       "  <th>Date:</th>             <td>Wed, 20 Nov 2024</td> <th>  Prob (F-statistic):</th> <td>1.11e-06</td>\n",
       "</tr>\n",
       "<tr>\n",
       "  <th>Time:</th>                 <td>13:29:28</td>     <th>  Log-Likelihood:    </th> <td>  504.95</td>\n",
       "</tr>\n",
       "<tr>\n",
       "  <th>No. Observations:</th>      <td>   254</td>      <th>  AIC:               </th> <td>  -1006.</td>\n",
       "</tr>\n",
       "<tr>\n",
       "  <th>Df Residuals:</th>          <td>   252</td>      <th>  BIC:               </th> <td>  -998.8</td>\n",
       "</tr>\n",
       "<tr>\n",
       "  <th>Df Model:</th>              <td>     1</td>      <th>                     </th>     <td> </td>   \n",
       "</tr>\n",
       "<tr>\n",
       "  <th>Covariance Type:</th>      <td>nonrobust</td>    <th>                     </th>     <td> </td>   \n",
       "</tr>\n",
       "</table>\n",
       "<table class=\"simpletable\">\n",
       "<tr>\n",
       "      <td></td>        <th>coef</th>     <th>std err</th>      <th>t</th>      <th>P>|t|</th>  <th>[0.025</th>    <th>0.975]</th>  \n",
       "</tr>\n",
       "<tr>\n",
       "  <th>const</th>    <td>    5.2498</td> <td>    0.148</td> <td>   35.555</td> <td> 0.000</td> <td>    4.959</td> <td>    5.541</td>\n",
       "</tr>\n",
       "<tr>\n",
       "  <th>Log_BZ=F</th> <td>   -0.1681</td> <td>    0.034</td> <td>   -4.993</td> <td> 0.000</td> <td>   -0.234</td> <td>   -0.102</td>\n",
       "</tr>\n",
       "</table>\n",
       "<table class=\"simpletable\">\n",
       "<tr>\n",
       "  <th>Omnibus:</th>       <td> 2.366</td> <th>  Durbin-Watson:     </th> <td>   0.126</td>\n",
       "</tr>\n",
       "<tr>\n",
       "  <th>Prob(Omnibus):</th> <td> 0.306</td> <th>  Jarque-Bera (JB):  </th> <td>   1.852</td>\n",
       "</tr>\n",
       "<tr>\n",
       "  <th>Skew:</th>          <td> 0.024</td> <th>  Prob(JB):          </th> <td>   0.396</td>\n",
       "</tr>\n",
       "<tr>\n",
       "  <th>Kurtosis:</th>      <td> 2.584</td> <th>  Cond. No.          </th> <td>    326.</td>\n",
       "</tr>\n",
       "</table><br/><br/>Notes:<br/>[1] Standard Errors assume that the covariance matrix of the errors is correctly specified."
      ],
      "text/latex": [
       "\\begin{center}\n",
       "\\begin{tabular}{lclc}\n",
       "\\toprule\n",
       "\\textbf{Dep. Variable:}    &    Log\\_RUB=X    & \\textbf{  R-squared:         } &     0.090   \\\\\n",
       "\\textbf{Model:}            &       OLS        & \\textbf{  Adj. R-squared:    } &     0.086   \\\\\n",
       "\\textbf{Method:}           &  Least Squares   & \\textbf{  F-statistic:       } &     24.93   \\\\\n",
       "\\textbf{Date:}             & Wed, 20 Nov 2024 & \\textbf{  Prob (F-statistic):} &  1.11e-06   \\\\\n",
       "\\textbf{Time:}             &     13:29:28     & \\textbf{  Log-Likelihood:    } &    504.95   \\\\\n",
       "\\textbf{No. Observations:} &         254      & \\textbf{  AIC:               } &    -1006.   \\\\\n",
       "\\textbf{Df Residuals:}     &         252      & \\textbf{  BIC:               } &    -998.8   \\\\\n",
       "\\textbf{Df Model:}         &           1      & \\textbf{                     } &             \\\\\n",
       "\\textbf{Covariance Type:}  &    nonrobust     & \\textbf{                     } &             \\\\\n",
       "\\bottomrule\n",
       "\\end{tabular}\n",
       "\\begin{tabular}{lcccccc}\n",
       "                   & \\textbf{coef} & \\textbf{std err} & \\textbf{t} & \\textbf{P$> |$t$|$} & \\textbf{[0.025} & \\textbf{0.975]}  \\\\\n",
       "\\midrule\n",
       "\\textbf{const}     &       5.2498  &        0.148     &    35.555  &         0.000        &        4.959    &        5.541     \\\\\n",
       "\\textbf{Log\\_BZ=F} &      -0.1681  &        0.034     &    -4.993  &         0.000        &       -0.234    &       -0.102     \\\\\n",
       "\\bottomrule\n",
       "\\end{tabular}\n",
       "\\begin{tabular}{lclc}\n",
       "\\textbf{Omnibus:}       &  2.366 & \\textbf{  Durbin-Watson:     } &    0.126  \\\\\n",
       "\\textbf{Prob(Omnibus):} &  0.306 & \\textbf{  Jarque-Bera (JB):  } &    1.852  \\\\\n",
       "\\textbf{Skew:}          &  0.024 & \\textbf{  Prob(JB):          } &    0.396  \\\\\n",
       "\\textbf{Kurtosis:}      &  2.584 & \\textbf{  Cond. No.          } &     326.  \\\\\n",
       "\\bottomrule\n",
       "\\end{tabular}\n",
       "%\\caption{OLS Regression Results}\n",
       "\\end{center}\n",
       "\n",
       "Notes: \\newline\n",
       " [1] Standard Errors assume that the covariance matrix of the errors is correctly specified."
      ],
      "text/plain": [
       "<class 'statsmodels.iolib.summary.Summary'>\n",
       "\"\"\"\n",
       "                            OLS Regression Results                            \n",
       "==============================================================================\n",
       "Dep. Variable:              Log_RUB=X   R-squared:                       0.090\n",
       "Model:                            OLS   Adj. R-squared:                  0.086\n",
       "Method:                 Least Squares   F-statistic:                     24.93\n",
       "Date:                Wed, 20 Nov 2024   Prob (F-statistic):           1.11e-06\n",
       "Time:                        13:29:28   Log-Likelihood:                 504.95\n",
       "No. Observations:                 254   AIC:                            -1006.\n",
       "Df Residuals:                     252   BIC:                            -998.8\n",
       "Df Model:                           1                                         \n",
       "Covariance Type:            nonrobust                                         \n",
       "==============================================================================\n",
       "                 coef    std err          t      P>|t|      [0.025      0.975]\n",
       "------------------------------------------------------------------------------\n",
       "const          5.2498      0.148     35.555      0.000       4.959       5.541\n",
       "Log_BZ=F      -0.1681      0.034     -4.993      0.000      -0.234      -0.102\n",
       "==============================================================================\n",
       "Omnibus:                        2.366   Durbin-Watson:                   0.126\n",
       "Prob(Omnibus):                  0.306   Jarque-Bera (JB):                1.852\n",
       "Skew:                           0.024   Prob(JB):                        0.396\n",
       "Kurtosis:                       2.584   Cond. No.                         326.\n",
       "==============================================================================\n",
       "\n",
       "Notes:\n",
       "[1] Standard Errors assume that the covariance matrix of the errors is correctly specified.\n",
       "\"\"\""
      ]
     },
     "execution_count": 46,
     "metadata": {},
     "output_type": "execute_result"
    }
   ],
   "source": [
    "# выведем результаты регрессионного анализа\n",
    "lin_reg_log.summary()"
   ]
  },
  {
   "cell_type": "code",
   "execution_count": 48,
   "id": "329e29e4-8425-4d68-9899-4c880e88b127",
   "metadata": {},
   "outputs": [
    {
     "name": "stdout",
     "output_type": "stream",
     "text": [
      "R2 :    0.09003187709368043\n",
      "R2adj : 0.08642089247897278\n",
      "Parameter coefficients :\n",
      "const       5.249818\n",
      "Log_BZ=F   -0.168114\n",
      "dtype: float64\n"
     ]
    }
   ],
   "source": [
    "# выведем коэффициенты детерминации и коэффициенты параметров\n",
    "print(f'R2 :    {lin_reg_log.rsquared}')\n",
    "print(f'R2adj : {lin_reg_log.rsquared_adj}')\n",
    "print(f'Parameter coefficients :\\n{lin_reg_log.params}')"
   ]
  },
  {
   "cell_type": "markdown",
   "id": "10010c2d-c892-4b97-b07d-a208d5a3e613",
   "metadata": {},
   "source": [
    "Проверим значимость параметров.\n",
    "Выдвигаем гипотезы для каждого параметра:\n",
    "* H0: коэффициент = 0\n",
    "* H1: коэффициент != 0"
   ]
  },
  {
   "cell_type": "code",
   "execution_count": 51,
   "id": "1ab4d006-dffe-48d4-bb59-6397c722c5dd",
   "metadata": {},
   "outputs": [
    {
     "name": "stdout",
     "output_type": "stream",
     "text": [
      "                             Test for Constraints                             \n",
      "==============================================================================\n",
      "                 coef    std err          t      P>|t|      [0.025      0.975]\n",
      "------------------------------------------------------------------------------\n",
      "c0             5.2498      0.148     35.555      0.000       4.959       5.541\n",
      "c1            -0.1681      0.034    -34.695      0.000      -0.234      -0.102\n",
      "==============================================================================\n"
     ]
    }
   ],
   "source": [
    "# отдельно выведем результаты t-теста значимости параметров\n",
    "print(lin_reg_log.t_test('const = 0, Log_BZ=F = 1'))"
   ]
  },
  {
   "cell_type": "code",
   "execution_count": 53,
   "id": "c00084c0-90f2-4d83-95b3-17b6f05abf23",
   "metadata": {},
   "outputs": [
    {
     "name": "stdout",
     "output_type": "stream",
     "text": [
      "Гипотезы H0 отвергаются, так как для параметров:\n",
      "const       : p-value = 3.483752664960119e-100 < 0.05\n",
      "X(Log_BZ=F) : p-value = 1.1093549461444076e-06 < 0.05\n",
      "Оба параметра являются значимыми.\n"
     ]
    }
   ],
   "source": [
    "# сравним p-value с уровнем значимости 5% гипотезы H0\n",
    "print('Гипотезы H0 отвергаются, так как для параметров:')\n",
    "print(f'const       : p-value = {lin_reg_log.pvalues.iloc[0]} < 0.05')\n",
    "print(f'X(Log_BZ=F) : p-value = {lin_reg_log.pvalues.iloc[1]} < 0.05')\n",
    "print('Оба параметра являются значимыми.')"
   ]
  },
  {
   "cell_type": "markdown",
   "id": "fd9473b5-06e0-4893-8f12-ac9e256410f9",
   "metadata": {},
   "source": [
    "Проверим значимость модели.\n",
    "Выдвигаем гипотезы:\n",
    "* H0: все коэффициенты = 0\n",
    "* H1: все коэффициенты != 0"
   ]
  },
  {
   "cell_type": "code",
   "execution_count": 56,
   "id": "bd83b5c6-e081-46c4-9cbd-356f1a51bbdc",
   "metadata": {},
   "outputs": [
    {
     "name": "stdout",
     "output_type": "stream",
     "text": [
      "Так как f-value = 24.93277781549628 > 1.109354946143557e-06 = f-value(cr), гипотеза H0 отвергается, модель значима.\n"
     ]
    }
   ],
   "source": [
    "# сравним результат F-теста с критическим значением статситики Фишера\n",
    "print(f'Так как f-value = {lin_reg_log.fvalue} > {lin_reg_log.f_pvalue} = f-value(cr), гипотеза H0 отвергается, модель значима.')"
   ]
  },
  {
   "cell_type": "markdown",
   "id": "4938e959-de60-4170-b975-d615d170e405",
   "metadata": {},
   "source": [
    "## Ответ: лин. регрессия логарифма курса доллара США к рублю к логарифму цены на нефть построена и все её параметры значимы."
   ]
  },
  {
   "cell_type": "markdown",
   "id": "9d311722-da9e-4161-997e-6e968b37a774",
   "metadata": {},
   "source": [
    "## Задача 4\n",
    "Исследуйте автокорреляцию лог-приростов цены на нефть. Постройте авторегрессионную модель для прогнозирования цен на нефть."
   ]
  },
  {
   "cell_type": "code",
   "execution_count": 60,
   "id": "4345a3b2-5994-455f-9623-90927efe1743",
   "metadata": {},
   "outputs": [],
   "source": [
    "# импорт библиотек\n",
    "import matplotlib.pyplot as plt\n",
    "from statsmodels.graphics.tsaplots import acf, plot_acf, plot_pacf\n",
    "from statsmodels.tsa.ar_model import AutoReg\n",
    "from statsmodels.stats.diagnostic import acorr_ljungbox"
   ]
  },
  {
   "cell_type": "code",
   "execution_count": 61,
   "id": "f35f4e8d-8d08-45ad-85b2-477ce1eb5340",
   "metadata": {},
   "outputs": [],
   "source": [
    "# игнорируем предупреждения\n",
    "import warnings\n",
    "warnings.filterwarnings('ignore')"
   ]
  },
  {
   "cell_type": "code",
   "execution_count": 64,
   "id": "c7ed15f2-dfa8-48b6-8208-10492069063b",
   "metadata": {},
   "outputs": [],
   "source": [
    "# расчет автокорреляции\n",
    "acf_values, confint = acf(log_returns, nlags=len(log_returns), alpha=0.05)"
   ]
  },
  {
   "cell_type": "code",
   "execution_count": 66,
   "id": "bf832e2e-7b06-4d63-8f2e-6053aef5cdfe",
   "metadata": {},
   "outputs": [
    {
     "name": "stdout",
     "output_type": "stream",
     "text": [
      "Значения автокорреляции (ACF):\n",
      "Lag 0: 1.0000\n",
      "Lag 1: 0.0137\n",
      "Lag 2: -0.0692\n",
      "Lag 3: 0.0506\n",
      "Lag 4: -0.0474\n",
      "Lag 5: -0.1370\n",
      "Lag 6: -0.1204\n",
      "Lag 7: -0.0023\n",
      "Lag 8: -0.0614\n",
      "Lag 9: -0.0014\n",
      "Lag 10: 0.0233\n",
      "Lag 11: 0.0119\n",
      "Lag 12: 0.0268\n",
      "Lag 13: 0.0218\n",
      "Lag 14: 0.0880\n",
      "Lag 15: -0.0336\n",
      "Lag 16: 0.0166\n",
      "Lag 17: -0.0368\n",
      "Lag 18: -0.0274\n",
      "Lag 19: -0.0990\n",
      "Lag 20: 0.0220\n",
      "Lag 21: -0.0217\n",
      "Lag 22: 0.0035\n",
      "Lag 23: 0.0177\n",
      "Lag 24: 0.0170\n",
      "Lag 25: 0.0538\n",
      "Lag 26: -0.0031\n",
      "Lag 27: -0.0356\n",
      "Lag 28: -0.0456\n",
      "Lag 29: -0.0173\n",
      "Lag 30: 0.0349\n",
      "Lag 31: 0.0017\n",
      "Lag 32: -0.0473\n",
      "Lag 33: -0.0438\n",
      "Lag 34: 0.0527\n",
      "Lag 35: -0.0595\n",
      "Lag 36: 0.0091\n",
      "Lag 37: 0.0438\n",
      "Lag 38: 0.0261\n",
      "Lag 39: 0.1122\n",
      "Lag 40: 0.0501\n",
      "Lag 41: -0.0347\n",
      "Lag 42: -0.0136\n",
      "Lag 43: -0.0612\n",
      "Lag 44: -0.0475\n",
      "Lag 45: -0.0619\n",
      "Lag 46: -0.0180\n",
      "Lag 47: 0.0191\n",
      "Lag 48: -0.0452\n",
      "Lag 49: 0.0498\n",
      "Lag 50: 0.0768\n",
      "Lag 51: -0.0250\n",
      "Lag 52: -0.0003\n",
      "Lag 53: 0.0019\n",
      "Lag 54: -0.0558\n",
      "Lag 55: -0.0231\n",
      "Lag 56: 0.0114\n",
      "Lag 57: -0.0507\n",
      "Lag 58: -0.1247\n",
      "Lag 59: 0.0719\n",
      "Lag 60: 0.0519\n",
      "Lag 61: 0.0812\n",
      "Lag 62: 0.0407\n",
      "Lag 63: 0.0278\n",
      "Lag 64: 0.0519\n",
      "Lag 65: -0.0133\n",
      "Lag 66: -0.0176\n",
      "Lag 67: -0.0463\n",
      "Lag 68: -0.0101\n",
      "Lag 69: 0.0135\n",
      "Lag 70: -0.0063\n",
      "Lag 71: 0.0358\n",
      "Lag 72: -0.0481\n",
      "Lag 73: 0.0358\n",
      "Lag 74: 0.0319\n",
      "Lag 75: 0.0083\n",
      "Lag 76: 0.0005\n",
      "Lag 77: -0.0285\n",
      "Lag 78: -0.0234\n",
      "Lag 79: 0.0069\n",
      "Lag 80: -0.0602\n",
      "Lag 81: -0.0031\n",
      "Lag 82: -0.0278\n",
      "Lag 83: -0.0069\n",
      "Lag 84: 0.0535\n",
      "Lag 85: 0.0089\n",
      "Lag 86: 0.0265\n",
      "Lag 87: -0.0158\n",
      "Lag 88: 0.0397\n",
      "Lag 89: -0.0547\n",
      "Lag 90: -0.0340\n",
      "Lag 91: -0.0020\n",
      "Lag 92: -0.0391\n",
      "Lag 93: 0.0456\n",
      "Lag 94: -0.0559\n",
      "Lag 95: 0.0113\n",
      "Lag 96: 0.0192\n",
      "Lag 97: -0.0851\n",
      "Lag 98: -0.0168\n",
      "Lag 99: 0.0489\n",
      "Lag 100: 0.0395\n",
      "Lag 101: 0.0828\n",
      "Lag 102: 0.0558\n",
      "Lag 103: 0.0345\n",
      "Lag 104: -0.0162\n",
      "Lag 105: -0.0615\n",
      "Lag 106: -0.0384\n",
      "Lag 107: -0.0641\n",
      "Lag 108: -0.0389\n",
      "Lag 109: -0.0336\n",
      "Lag 110: 0.0266\n",
      "Lag 111: 0.0209\n",
      "Lag 112: 0.0260\n",
      "Lag 113: -0.0256\n",
      "Lag 114: 0.0052\n",
      "Lag 115: 0.0481\n",
      "Lag 116: -0.0132\n",
      "Lag 117: -0.0478\n",
      "Lag 118: 0.0364\n",
      "Lag 119: -0.0199\n",
      "Lag 120: -0.0738\n",
      "Lag 121: -0.0412\n",
      "Lag 122: 0.0571\n",
      "Lag 123: -0.0005\n",
      "Lag 124: 0.0556\n",
      "Lag 125: 0.0885\n",
      "Lag 126: 0.0324\n",
      "Lag 127: -0.0055\n",
      "Lag 128: -0.0187\n",
      "Lag 129: -0.0480\n",
      "Lag 130: -0.0170\n",
      "Lag 131: -0.0087\n",
      "Lag 132: -0.0370\n",
      "Lag 133: -0.0023\n",
      "Lag 134: 0.0307\n",
      "Lag 135: 0.0042\n",
      "Lag 136: -0.0677\n",
      "Lag 137: 0.0272\n",
      "Lag 138: 0.0472\n",
      "Lag 139: -0.0329\n",
      "Lag 140: 0.0564\n",
      "Lag 141: -0.0911\n",
      "Lag 142: -0.0490\n",
      "Lag 143: 0.0202\n",
      "Lag 144: -0.0256\n",
      "Lag 145: -0.0008\n",
      "Lag 146: 0.0157\n",
      "Lag 147: 0.0006\n",
      "Lag 148: 0.0093\n",
      "Lag 149: -0.0002\n",
      "Lag 150: 0.0437\n",
      "Lag 151: 0.0024\n",
      "Lag 152: -0.0144\n",
      "Lag 153: -0.0218\n",
      "Lag 154: -0.0051\n",
      "Lag 155: -0.0389\n",
      "Lag 156: -0.0211\n",
      "Lag 157: -0.0063\n",
      "Lag 158: -0.0345\n",
      "Lag 159: -0.0167\n",
      "Lag 160: 0.0411\n",
      "Lag 161: 0.0565\n",
      "Lag 162: 0.0124\n",
      "Lag 163: 0.0262\n",
      "Lag 164: 0.0808\n",
      "Lag 165: 0.0187\n",
      "Lag 166: -0.0322\n",
      "Lag 167: -0.0039\n",
      "Lag 168: -0.0341\n",
      "Lag 169: -0.0474\n",
      "Lag 170: -0.0690\n",
      "Lag 171: 0.0601\n",
      "Lag 172: -0.0105\n",
      "Lag 173: 0.0026\n",
      "Lag 174: 0.0501\n",
      "Lag 175: 0.0323\n",
      "Lag 176: -0.0380\n",
      "Lag 177: 0.0271\n",
      "Lag 178: 0.0217\n",
      "Lag 179: -0.0372\n",
      "Lag 180: -0.0452\n",
      "Lag 181: -0.0017\n",
      "Lag 182: -0.0664\n",
      "Lag 183: -0.0229\n",
      "Lag 184: 0.0332\n",
      "Lag 185: 0.0652\n",
      "Lag 186: 0.0466\n",
      "Lag 187: 0.0797\n",
      "Lag 188: -0.0172\n",
      "Lag 189: 0.0598\n",
      "Lag 190: -0.0362\n",
      "Lag 191: -0.0762\n",
      "Lag 192: -0.0474\n",
      "Lag 193: 0.0028\n",
      "Lag 194: 0.0155\n",
      "Lag 195: 0.0064\n",
      "Lag 196: 0.0091\n",
      "Lag 197: -0.0073\n",
      "Lag 198: 0.0310\n",
      "Lag 199: 0.0485\n",
      "Lag 200: -0.0166\n",
      "Lag 201: 0.0242\n",
      "Lag 202: -0.0130\n",
      "Lag 203: 0.0243\n",
      "Lag 204: -0.0133\n",
      "Lag 205: -0.0223\n",
      "Lag 206: -0.0051\n",
      "Lag 207: -0.0003\n",
      "Lag 208: -0.0797\n",
      "Lag 209: -0.0363\n",
      "Lag 210: 0.0231\n",
      "Lag 211: 0.0232\n",
      "Lag 212: -0.0388\n",
      "Lag 213: 0.0253\n",
      "Lag 214: 0.0371\n",
      "Lag 215: -0.0367\n",
      "Lag 216: -0.0604\n",
      "Lag 217: 0.0746\n",
      "Lag 218: 0.0323\n",
      "Lag 219: -0.0134\n",
      "Lag 220: -0.0018\n",
      "Lag 221: 0.0277\n",
      "Lag 222: -0.0330\n",
      "Lag 223: -0.0114\n",
      "Lag 224: 0.0489\n",
      "Lag 225: -0.0137\n",
      "Lag 226: -0.0076\n",
      "Lag 227: 0.0296\n",
      "Lag 228: -0.0172\n",
      "Lag 229: -0.0338\n",
      "Lag 230: -0.0124\n",
      "Lag 231: 0.0097\n",
      "Lag 232: -0.0259\n",
      "Lag 233: 0.0204\n",
      "Lag 234: 0.0466\n",
      "Lag 235: -0.0085\n",
      "Lag 236: 0.0050\n",
      "Lag 237: 0.0208\n",
      "Lag 238: 0.0034\n",
      "Lag 239: -0.0317\n",
      "Lag 240: -0.0104\n",
      "Lag 241: 0.0139\n",
      "Lag 242: -0.0129\n",
      "Lag 243: -0.0019\n",
      "Lag 244: -0.0004\n",
      "Lag 245: 0.0090\n",
      "Lag 246: -0.0003\n",
      "Lag 247: -0.0014\n",
      "Lag 248: -0.0016\n",
      "Lag 249: -0.0033\n",
      "Lag 250: 0.0005\n",
      "Lag 251: -0.0002\n",
      "Lag 252: 0.0001\n"
     ]
    }
   ],
   "source": [
    "# вывод значений\n",
    "print(\"Значения автокорреляции (ACF):\")\n",
    "for lag, value in enumerate(acf_values):\n",
    "    print(f\"Lag {lag}: {value:.4f}\")"
   ]
  },
  {
   "cell_type": "code",
   "execution_count": 68,
   "id": "2c119ed9-de8f-4cd4-a2c8-4076f889cbfc",
   "metadata": {},
   "outputs": [
    {
     "data": {
      "image/png": "[encoded data removed]",
      "text/plain": [
       "<Figure size 1200x600 with 2 Axes>"
      ]
     },
     "metadata": {},
     "output_type": "display_data"
    }
   ],
   "source": [
    "# исследование автокорреляции\n",
    "plt.figure(figsize=(12, 6))\n",
    "plt.subplot(2, 1, 1)\n",
    "plot_acf(log_returns, lags=30, alpha=0.05, ax=plt.gca())\n",
    "plt.axis('tight')\n",
    "plt.title(\"ACF (Автокорреляционная функция)\")\n",
    "\n",
    "plt.subplot(2, 1, 2)\n",
    "plot_pacf(log_returns, lags=30, alpha=0.05, ax=plt.gca())\n",
    "plt.title(\"PACF (Частичная автокорреляционная функция)\")\n",
    "plt.axis('tight')\n",
    "plt.show()"
   ]
  },
  {
   "cell_type": "markdown",
   "id": "d4c9caed-1383-42fa-a23e-1d81b212dc9d",
   "metadata": {},
   "source": [
    "После изучения коррелограммы PACF можно сделать вывод, что максимальный номер коэффициента, выходящего за границы доверительного интервала - 6.\n",
    "Попробуем построить авторегрессионную модель AR(6)."
   ]
  },
  {
   "cell_type": "code",
   "execution_count": 71,
   "id": "ee2c5f22-ac7f-4b55-bf8c-56ecf4b2dbc7",
   "metadata": {},
   "outputs": [],
   "source": [
    "# создание модели AR(6)\n",
    "auto_reg = AutoReg(log_returns, lags=6).fit()"
   ]
  },
  {
   "cell_type": "code",
   "execution_count": 73,
   "id": "9d3cbd36-36c8-4c1d-9e5f-5b12e7f0771a",
   "metadata": {},
   "outputs": [
    {
     "data": {
      "text/html": [
       "<table class=\"simpletable\">\n",
       "<caption>AutoReg Model Results</caption>\n",
       "<tr>\n",
       "  <th>Dep. Variable:</th>    <td>Log_Returns</td>   <th>  No. Observations:  </th>    <td>253</td>   \n",
       "</tr>\n",
       "<tr>\n",
       "  <th>Model:</th>            <td>AutoReg(6)</td>    <th>  Log Likelihood     </th>  <td>654.398</td> \n",
       "</tr>\n",
       "<tr>\n",
       "  <th>Method:</th>         <td>Conditional MLE</td> <th>  S.D. of innovations</th>   <td>0.017</td>  \n",
       "</tr>\n",
       "<tr>\n",
       "  <th>Date:</th>          <td>Wed, 20 Nov 2024</td> <th>  AIC                </th> <td>-1292.795</td>\n",
       "</tr>\n",
       "<tr>\n",
       "  <th>Time:</th>              <td>13:29:41</td>     <th>  BIC                </th> <td>-1264.720</td>\n",
       "</tr>\n",
       "<tr>\n",
       "  <th>Sample:</th>                <td>6</td>        <th>  HQIC               </th> <td>-1281.492</td>\n",
       "</tr>\n",
       "<tr>\n",
       "  <th></th>                      <td>253</td>       <th>                     </th>     <td> </td>    \n",
       "</tr>\n",
       "</table>\n",
       "<table class=\"simpletable\">\n",
       "<tr>\n",
       "         <td></td>           <th>coef</th>     <th>std err</th>      <th>z</th>      <th>P>|z|</th>  <th>[0.025</th>    <th>0.975]</th>  \n",
       "</tr>\n",
       "<tr>\n",
       "  <th>const</th>          <td>   -0.0006</td> <td>    0.001</td> <td>   -0.546</td> <td> 0.585</td> <td>   -0.003</td> <td>    0.002</td>\n",
       "</tr>\n",
       "<tr>\n",
       "  <th>Log_Returns.L1</th> <td>   -0.0028</td> <td>    0.063</td> <td>   -0.044</td> <td> 0.965</td> <td>   -0.126</td> <td>    0.121</td>\n",
       "</tr>\n",
       "<tr>\n",
       "  <th>Log_Returns.L2</th> <td>   -0.0723</td> <td>    0.062</td> <td>   -1.159</td> <td> 0.247</td> <td>   -0.195</td> <td>    0.050</td>\n",
       "</tr>\n",
       "<tr>\n",
       "  <th>Log_Returns.L3</th> <td>    0.0522</td> <td>    0.063</td> <td>    0.830</td> <td> 0.406</td> <td>   -0.071</td> <td>    0.175</td>\n",
       "</tr>\n",
       "<tr>\n",
       "  <th>Log_Returns.L4</th> <td>   -0.0592</td> <td>    0.063</td> <td>   -0.939</td> <td> 0.348</td> <td>   -0.183</td> <td>    0.064</td>\n",
       "</tr>\n",
       "<tr>\n",
       "  <th>Log_Returns.L5</th> <td>   -0.1283</td> <td>    0.063</td> <td>   -2.038</td> <td> 0.042</td> <td>   -0.252</td> <td>   -0.005</td>\n",
       "</tr>\n",
       "<tr>\n",
       "  <th>Log_Returns.L6</th> <td>   -0.1306</td> <td>    0.063</td> <td>   -2.058</td> <td> 0.040</td> <td>   -0.255</td> <td>   -0.006</td>\n",
       "</tr>\n",
       "</table>\n",
       "<table class=\"simpletable\">\n",
       "<caption>Roots</caption>\n",
       "<tr>\n",
       "    <td></td>   <th>            Real</th>  <th>         Imaginary</th> <th>         Modulus</th>  <th>        Frequency</th>\n",
       "</tr>\n",
       "<tr>\n",
       "  <th>AR.1</th> <td>           1.0650</td> <td>          -0.7070j</td> <td>           1.2784</td> <td>          -0.0933</td>\n",
       "</tr>\n",
       "<tr>\n",
       "  <th>AR.2</th> <td>           1.0650</td> <td>          +0.7070j</td> <td>           1.2784</td> <td>           0.0933</td>\n",
       "</tr>\n",
       "<tr>\n",
       "  <th>AR.3</th> <td>          -0.1989</td> <td>          -1.3608j</td> <td>           1.3753</td> <td>          -0.2731</td>\n",
       "</tr>\n",
       "<tr>\n",
       "  <th>AR.4</th> <td>          -0.1989</td> <td>          +1.3608j</td> <td>           1.3753</td> <td>           0.2731</td>\n",
       "</tr>\n",
       "<tr>\n",
       "  <th>AR.5</th> <td>          -1.3572</td> <td>          -0.7968j</td> <td>           1.5738</td> <td>          -0.4155</td>\n",
       "</tr>\n",
       "<tr>\n",
       "  <th>AR.6</th> <td>          -1.3572</td> <td>          +0.7968j</td> <td>           1.5738</td> <td>           0.4155</td>\n",
       "</tr>\n",
       "</table>"
      ],
      "text/latex": [
       "\\begin{center}\n",
       "\\begin{tabular}{lclc}\n",
       "\\toprule\n",
       "\\textbf{Dep. Variable:}  &        Log\\_Returns       & \\textbf{  No. Observations:  } &            253             \\\\\n",
       "\\textbf{Model:}          &         AutoReg(6)        & \\textbf{  Log Likelihood     } &          654.398           \\\\\n",
       "\\textbf{Method:}         &      Conditional MLE      & \\textbf{  S.D. of innovations} &           0.017            \\\\\n",
       "\\textbf{Date:}           &      Wed, 20 Nov 2024     & \\textbf{  AIC                } &         -1292.795          \\\\\n",
       "\\textbf{Time:}           &          13:29:41         & \\textbf{  BIC                } &         -1264.720          \\\\\n",
       "\\textbf{Sample:}         &             6             & \\textbf{  HQIC               } &         -1281.492          \\\\\n",
       "\\textbf{}                &            253            & \\textbf{                     } &                            \\\\\n",
       "\\bottomrule\n",
       "\\end{tabular}\n",
       "\\begin{tabular}{lcccccc}\n",
       "                         & \\textbf{coef} & \\textbf{std err} & \\textbf{z} & \\textbf{P$> |$z$|$} & \\textbf{[0.025} & \\textbf{0.975]}  \\\\\n",
       "\\midrule\n",
       "\\textbf{const}           &      -0.0006  &        0.001     &    -0.546  &         0.585        &       -0.003    &        0.002     \\\\\n",
       "\\textbf{Log\\_Returns.L1} &      -0.0028  &        0.063     &    -0.044  &         0.965        &       -0.126    &        0.121     \\\\\n",
       "\\textbf{Log\\_Returns.L2} &      -0.0723  &        0.062     &    -1.159  &         0.247        &       -0.195    &        0.050     \\\\\n",
       "\\textbf{Log\\_Returns.L3} &       0.0522  &        0.063     &     0.830  &         0.406        &       -0.071    &        0.175     \\\\\n",
       "\\textbf{Log\\_Returns.L4} &      -0.0592  &        0.063     &    -0.939  &         0.348        &       -0.183    &        0.064     \\\\\n",
       "\\textbf{Log\\_Returns.L5} &      -0.1283  &        0.063     &    -2.038  &         0.042        &       -0.252    &       -0.005     \\\\\n",
       "\\textbf{Log\\_Returns.L6} &      -0.1306  &        0.063     &    -2.058  &         0.040        &       -0.255    &       -0.006     \\\\\n",
       "\\bottomrule\n",
       "\\end{tabular}\n",
       "\\begin{tabular}{lcccc}\n",
       "              & \\textbf{            Real} & \\textbf{         Imaginary} & \\textbf{         Modulus} & \\textbf{        Frequency}  \\\\\n",
       "\\midrule\n",
       "\\textbf{AR.1} &                1.0650     &                -0.7070j     &                1.2784     &               -0.0933       \\\\\n",
       "\\textbf{AR.2} &                1.0650     &                +0.7070j     &                1.2784     &                0.0933       \\\\\n",
       "\\textbf{AR.3} &               -0.1989     &                -1.3608j     &                1.3753     &               -0.2731       \\\\\n",
       "\\textbf{AR.4} &               -0.1989     &                +1.3608j     &                1.3753     &                0.2731       \\\\\n",
       "\\textbf{AR.5} &               -1.3572     &                -0.7968j     &                1.5738     &               -0.4155       \\\\\n",
       "\\textbf{AR.6} &               -1.3572     &                +0.7968j     &                1.5738     &                0.4155       \\\\\n",
       "\\bottomrule\n",
       "\\end{tabular}\n",
       "%\\caption{AutoReg Model Results}\n",
       "\\end{center}"
      ],
      "text/plain": [
       "<class 'statsmodels.iolib.summary.Summary'>\n",
       "\"\"\"\n",
       "                            AutoReg Model Results                             \n",
       "==============================================================================\n",
       "Dep. Variable:            Log_Returns   No. Observations:                  253\n",
       "Model:                     AutoReg(6)   Log Likelihood                 654.398\n",
       "Method:               Conditional MLE   S.D. of innovations              0.017\n",
       "Date:                Wed, 20 Nov 2024   AIC                          -1292.795\n",
       "Time:                        13:29:41   BIC                          -1264.720\n",
       "Sample:                             6   HQIC                         -1281.492\n",
       "                                  253                                         \n",
       "==================================================================================\n",
       "                     coef    std err          z      P>|z|      [0.025      0.975]\n",
       "----------------------------------------------------------------------------------\n",
       "const             -0.0006      0.001     -0.546      0.585      -0.003       0.002\n",
       "Log_Returns.L1    -0.0028      0.063     -0.044      0.965      -0.126       0.121\n",
       "Log_Returns.L2    -0.0723      0.062     -1.159      0.247      -0.195       0.050\n",
       "Log_Returns.L3     0.0522      0.063      0.830      0.406      -0.071       0.175\n",
       "Log_Returns.L4    -0.0592      0.063     -0.939      0.348      -0.183       0.064\n",
       "Log_Returns.L5    -0.1283      0.063     -2.038      0.042      -0.252      -0.005\n",
       "Log_Returns.L6    -0.1306      0.063     -2.058      0.040      -0.255      -0.006\n",
       "                                    Roots                                    \n",
       "=============================================================================\n",
       "                  Real          Imaginary           Modulus         Frequency\n",
       "-----------------------------------------------------------------------------\n",
       "AR.1            1.0650           -0.7070j            1.2784           -0.0933\n",
       "AR.2            1.0650           +0.7070j            1.2784            0.0933\n",
       "AR.3           -0.1989           -1.3608j            1.3753           -0.2731\n",
       "AR.4           -0.1989           +1.3608j            1.3753            0.2731\n",
       "AR.5           -1.3572           -0.7968j            1.5738           -0.4155\n",
       "AR.6           -1.3572           +0.7968j            1.5738            0.4155\n",
       "-----------------------------------------------------------------------------\n",
       "\"\"\""
      ]
     },
     "execution_count": 73,
     "metadata": {},
     "output_type": "execute_result"
    }
   ],
   "source": [
    "# выведем результаты \n",
    "auto_reg.summary()"
   ]
  },
  {
   "cell_type": "code",
   "execution_count": 75,
   "id": "2dd9f0fd-251a-4c90-93bd-d64bb47a168d",
   "metadata": {},
   "outputs": [
    {
     "name": "stdout",
     "output_type": "stream",
     "text": [
      "AR(6)'s AIC :  -1292.7951045173133\n",
      "AR(6)'s BIC :  -1264.7199978242895\n",
      "AR(6)'s HQIC : -1281.4918468002509\n",
      "AR(6)'s Log Likelihood : 654.3975522586567\n"
     ]
    }
   ],
   "source": [
    "# выведем метрические показатели модели\n",
    "print(f'AR(6)\\'s AIC :  {auto_reg.aic}')\n",
    "print(f'AR(6)\\'s BIC :  {auto_reg.bic}')\n",
    "print(f'AR(6)\\'s HQIC : {auto_reg.hqic}')\n",
    "print(f'AR(6)\\'s Log Likelihood : {auto_reg.llf}')"
   ]
  },
  {
   "cell_type": "code",
   "execution_count": 77,
   "id": "cace5356-6c2c-4082-b7b5-a5fde4a6cc08",
   "metadata": {},
   "outputs": [
    {
     "name": "stdout",
     "output_type": "stream",
     "text": [
      "const : p-value = 0.58501034677904 > 0.05\n",
      "L1    : p-value = 0.9646637450084546 > 0.05\n",
      "L2    : p-value = 0.2465505088728852 > 0.05\n",
      "L3    : p-value = 0.406274011622187 > 0.05\n",
      "L4    : p-value = 0.347759394158227 > 0.05\n",
      "L5    : p-value = 0.041537761651108236 < 0.05\n",
      "L6    : p-value = 0.039587865426382256 < 0.05\n"
     ]
    }
   ],
   "source": [
    "# сравним p-value с уровнем значимости 5%\n",
    "print(f'const : p-value = {auto_reg.pvalues.iloc[0]} > 0.05')\n",
    "print(f'L1    : p-value = {auto_reg.pvalues.iloc[1]} > 0.05')\n",
    "print(f'L2    : p-value = {auto_reg.pvalues.iloc[2]} > 0.05')\n",
    "print(f'L3    : p-value = {auto_reg.pvalues.iloc[3]} > 0.05')\n",
    "print(f'L4    : p-value = {auto_reg.pvalues.iloc[4]} > 0.05')\n",
    "print(f'L5    : p-value = {auto_reg.pvalues.iloc[5]} < 0.05')\n",
    "print(f'L6    : p-value = {auto_reg.pvalues.iloc[6]} < 0.05')"
   ]
  },
  {
   "cell_type": "markdown",
   "id": "c17cb5f0-1c22-41c7-a380-a69bd39080cf",
   "metadata": {},
   "source": [
    "Получаем, что значимыми являются только параметры L5 и L6. Скорректируем модель AR(6) до AR(2)."
   ]
  },
  {
   "cell_type": "code",
   "execution_count": 80,
   "id": "c86ed1bd-1dd2-431c-b468-314355aad5c8",
   "metadata": {},
   "outputs": [],
   "source": [
    "# изменим модель, используем только значимые лаги (L5 и L6)\n",
    "auto_reg_mod = AutoReg(log_returns, lags=[5, 6], trend='n').fit()"
   ]
  },
  {
   "cell_type": "code",
   "execution_count": 82,
   "id": "c8ebc151-2bf4-4419-97c3-b8516e61ecf7",
   "metadata": {},
   "outputs": [
    {
     "data": {
      "text/html": [
       "<table class=\"simpletable\">\n",
       "<caption>AutoReg Model Results</caption>\n",
       "<tr>\n",
       "  <th>Dep. Variable:</th>    <td>Log_Returns</td>    <th>  No. Observations:  </th>    <td>253</td>   \n",
       "</tr>\n",
       "<tr>\n",
       "  <th>Model:</th>         <td>Restr. AutoReg(6)</td> <th>  Log Likelihood     </th>  <td>652.923</td> \n",
       "</tr>\n",
       "<tr>\n",
       "  <th>Method:</th>         <td>Conditional MLE</td>  <th>  S.D. of innovations</th>   <td>0.017</td>  \n",
       "</tr>\n",
       "<tr>\n",
       "  <th>Date:</th>          <td>Wed, 20 Nov 2024</td>  <th>  AIC                </th> <td>-1299.845</td>\n",
       "</tr>\n",
       "<tr>\n",
       "  <th>Time:</th>              <td>13:29:45</td>      <th>  BIC                </th> <td>-1289.317</td>\n",
       "</tr>\n",
       "<tr>\n",
       "  <th>Sample:</th>                <td>6</td>         <th>  HQIC               </th> <td>-1295.607</td>\n",
       "</tr>\n",
       "<tr>\n",
       "  <th></th>                      <td>253</td>        <th>                     </th>     <td> </td>    \n",
       "</tr>\n",
       "</table>\n",
       "<table class=\"simpletable\">\n",
       "<tr>\n",
       "         <td></td>           <th>coef</th>     <th>std err</th>      <th>z</th>      <th>P>|z|</th>  <th>[0.025</th>    <th>0.975]</th>  \n",
       "</tr>\n",
       "<tr>\n",
       "  <th>Log_Returns.L5</th> <td>   -0.1365</td> <td>    0.063</td> <td>   -2.170</td> <td> 0.030</td> <td>   -0.260</td> <td>   -0.013</td>\n",
       "</tr>\n",
       "<tr>\n",
       "  <th>Log_Returns.L6</th> <td>   -0.1186</td> <td>    0.063</td> <td>   -1.886</td> <td> 0.059</td> <td>   -0.242</td> <td>    0.005</td>\n",
       "</tr>\n",
       "</table>\n",
       "<table class=\"simpletable\">\n",
       "<caption>Roots</caption>\n",
       "<tr>\n",
       "    <td></td>   <th>            Real</th>  <th>         Imaginary</th> <th>         Modulus</th>  <th>        Frequency</th>\n",
       "</tr>\n",
       "<tr>\n",
       "  <th>AR.1</th> <td>           1.0887</td> <td>          -0.6950j</td> <td>           1.2916</td> <td>          -0.0904</td>\n",
       "</tr>\n",
       "<tr>\n",
       "  <th>AR.2</th> <td>           1.0887</td> <td>          +0.6950j</td> <td>           1.2916</td> <td>           0.0904</td>\n",
       "</tr>\n",
       "<tr>\n",
       "  <th>AR.3</th> <td>          -0.1710</td> <td>          -1.3695j</td> <td>           1.3801</td> <td>          -0.2698</td>\n",
       "</tr>\n",
       "<tr>\n",
       "  <th>AR.4</th> <td>          -0.1710</td> <td>          +1.3695j</td> <td>           1.3801</td> <td>           0.2698</td>\n",
       "</tr>\n",
       "<tr>\n",
       "  <th>AR.5</th> <td>          -1.4931</td> <td>          -0.6508j</td> <td>           1.6288</td> <td>          -0.4346</td>\n",
       "</tr>\n",
       "<tr>\n",
       "  <th>AR.6</th> <td>          -1.4931</td> <td>          +0.6508j</td> <td>           1.6288</td> <td>           0.4346</td>\n",
       "</tr>\n",
       "</table>"
      ],
      "text/latex": [
       "\\begin{center}\n",
       "\\begin{tabular}{lclc}\n",
       "\\toprule\n",
       "\\textbf{Dep. Variable:}  &        Log\\_Returns       & \\textbf{  No. Observations:  } &            253             \\\\\n",
       "\\textbf{Model:}          &     Restr. AutoReg(6)     & \\textbf{  Log Likelihood     } &          652.923           \\\\\n",
       "\\textbf{Method:}         &      Conditional MLE      & \\textbf{  S.D. of innovations} &           0.017            \\\\\n",
       "\\textbf{Date:}           &      Wed, 20 Nov 2024     & \\textbf{  AIC                } &         -1299.845          \\\\\n",
       "\\textbf{Time:}           &          13:29:45         & \\textbf{  BIC                } &         -1289.317          \\\\\n",
       "\\textbf{Sample:}         &             6             & \\textbf{  HQIC               } &         -1295.607          \\\\\n",
       "\\textbf{}                &            253            & \\textbf{                     } &                            \\\\\n",
       "\\bottomrule\n",
       "\\end{tabular}\n",
       "\\begin{tabular}{lcccccc}\n",
       "                         & \\textbf{coef} & \\textbf{std err} & \\textbf{z} & \\textbf{P$> |$z$|$} & \\textbf{[0.025} & \\textbf{0.975]}  \\\\\n",
       "\\midrule\n",
       "\\textbf{Log\\_Returns.L5} &      -0.1365  &        0.063     &    -2.170  &         0.030        &       -0.260    &       -0.013     \\\\\n",
       "\\textbf{Log\\_Returns.L6} &      -0.1186  &        0.063     &    -1.886  &         0.059        &       -0.242    &        0.005     \\\\\n",
       "\\bottomrule\n",
       "\\end{tabular}\n",
       "\\begin{tabular}{lcccc}\n",
       "              & \\textbf{            Real} & \\textbf{         Imaginary} & \\textbf{         Modulus} & \\textbf{        Frequency}  \\\\\n",
       "\\midrule\n",
       "\\textbf{AR.1} &                1.0887     &                -0.6950j     &                1.2916     &               -0.0904       \\\\\n",
       "\\textbf{AR.2} &                1.0887     &                +0.6950j     &                1.2916     &                0.0904       \\\\\n",
       "\\textbf{AR.3} &               -0.1710     &                -1.3695j     &                1.3801     &               -0.2698       \\\\\n",
       "\\textbf{AR.4} &               -0.1710     &                +1.3695j     &                1.3801     &                0.2698       \\\\\n",
       "\\textbf{AR.5} &               -1.4931     &                -0.6508j     &                1.6288     &               -0.4346       \\\\\n",
       "\\textbf{AR.6} &               -1.4931     &                +0.6508j     &                1.6288     &                0.4346       \\\\\n",
       "\\bottomrule\n",
       "\\end{tabular}\n",
       "%\\caption{AutoReg Model Results}\n",
       "\\end{center}"
      ],
      "text/plain": [
       "<class 'statsmodels.iolib.summary.Summary'>\n",
       "\"\"\"\n",
       "                            AutoReg Model Results                             \n",
       "==============================================================================\n",
       "Dep. Variable:            Log_Returns   No. Observations:                  253\n",
       "Model:              Restr. AutoReg(6)   Log Likelihood                 652.923\n",
       "Method:               Conditional MLE   S.D. of innovations              0.017\n",
       "Date:                Wed, 20 Nov 2024   AIC                          -1299.845\n",
       "Time:                        13:29:45   BIC                          -1289.317\n",
       "Sample:                             6   HQIC                         -1295.607\n",
       "                                  253                                         \n",
       "==================================================================================\n",
       "                     coef    std err          z      P>|z|      [0.025      0.975]\n",
       "----------------------------------------------------------------------------------\n",
       "Log_Returns.L5    -0.1365      0.063     -2.170      0.030      -0.260      -0.013\n",
       "Log_Returns.L6    -0.1186      0.063     -1.886      0.059      -0.242       0.005\n",
       "                                    Roots                                    \n",
       "=============================================================================\n",
       "                  Real          Imaginary           Modulus         Frequency\n",
       "-----------------------------------------------------------------------------\n",
       "AR.1            1.0887           -0.6950j            1.2916           -0.0904\n",
       "AR.2            1.0887           +0.6950j            1.2916            0.0904\n",
       "AR.3           -0.1710           -1.3695j            1.3801           -0.2698\n",
       "AR.4           -0.1710           +1.3695j            1.3801            0.2698\n",
       "AR.5           -1.4931           -0.6508j            1.6288           -0.4346\n",
       "AR.6           -1.4931           +0.6508j            1.6288            0.4346\n",
       "-----------------------------------------------------------------------------\n",
       "\"\"\""
      ]
     },
     "execution_count": 82,
     "metadata": {},
     "output_type": "execute_result"
    }
   ],
   "source": [
    "# выведем результаты \n",
    "auto_reg_mod.summary()"
   ]
  },
  {
   "cell_type": "code",
   "execution_count": 84,
   "id": "09038a58-2b27-48f3-b610-ca190244aab3",
   "metadata": {},
   "outputs": [
    {
     "name": "stdout",
     "output_type": "stream",
     "text": [
      "AR(2)'s AIC :  -1299.8453684634296  < AR(6)'s AIC :  -1292.7951045173133\n",
      "AR(2)'s BIC :  -1289.3172034535457  < AR(6)'s BIC :  -1264.7199978242895\n",
      "AR(2)'s HQIC : -1295.6066468195313 < AR(6)'s HQIC : -1281.4918468002509\n",
      "AR(2)'s Log Likelihood : 652.9226842317148 < AR(6)'s Log Likelihood : 654.3975522586567\n"
     ]
    }
   ],
   "source": [
    "# сравним метрические показатели моделей AR(6) и AR(2)\n",
    "print(f'AR(2)\\'s AIC :  {auto_reg_mod.aic}  < AR(6)\\'s AIC :  {auto_reg.aic}')\n",
    "print(f'AR(2)\\'s BIC :  {auto_reg_mod.bic}  < AR(6)\\'s BIC :  {auto_reg.bic}')\n",
    "print(f'AR(2)\\'s HQIC : {auto_reg_mod.hqic} < AR(6)\\'s HQIC : {auto_reg.hqic}')\n",
    "print(f'AR(2)\\'s Log Likelihood : {auto_reg_mod.llf} < AR(6)\\'s Log Likelihood : {auto_reg.llf}')"
   ]
  },
  {
   "cell_type": "code",
   "execution_count": 86,
   "id": "20666f21-1b2f-419c-8fe8-71ced67303b6",
   "metadata": {},
   "outputs": [
    {
     "name": "stdout",
     "output_type": "stream",
     "text": [
      "L5 : p-value = 0.030018390155323746 < 0.05\n",
      "L6 : p-value = 0.059360471877273224 > 0.05\n"
     ]
    }
   ],
   "source": [
    "# сравним p-value с уровнем значимости 5%\n",
    "print(f'L5 : p-value = {auto_reg_mod.pvalues.iloc[0]} < 0.05')\n",
    "print(f'L6 : p-value = {auto_reg_mod.pvalues.iloc[1]} > 0.05')"
   ]
  },
  {
   "cell_type": "markdown",
   "id": "bcdb155f-0156-45c5-8212-8faf2e77fe01",
   "metadata": {},
   "source": [
    "Получаем, что значимым является только параметр L5. Скорректируем модель AR(2) до AR(1)."
   ]
  },
  {
   "cell_type": "code",
   "execution_count": 89,
   "id": "d3fbf6bd-1f62-48af-a0f8-2ab3b8f21747",
   "metadata": {},
   "outputs": [],
   "source": [
    "# изменим модель, используем только значимый лаг (L5)\n",
    "auto_reg_res = AutoReg(log_returns, lags=[5], trend='n').fit()"
   ]
  },
  {
   "cell_type": "code",
   "execution_count": 91,
   "id": "68d76ee1-08db-4112-9ab2-8002445d754b",
   "metadata": {},
   "outputs": [
    {
     "data": {
      "text/html": [
       "<table class=\"simpletable\">\n",
       "<caption>AutoReg Model Results</caption>\n",
       "<tr>\n",
       "  <th>Dep. Variable:</th>    <td>Log_Returns</td>    <th>  No. Observations:  </th>    <td>253</td>   \n",
       "</tr>\n",
       "<tr>\n",
       "  <th>Model:</th>         <td>Restr. AutoReg(5)</td> <th>  Log Likelihood     </th>  <td>653.543</td> \n",
       "</tr>\n",
       "<tr>\n",
       "  <th>Method:</th>         <td>Conditional MLE</td>  <th>  S.D. of innovations</th>   <td>0.017</td>  \n",
       "</tr>\n",
       "<tr>\n",
       "  <th>Date:</th>          <td>Wed, 20 Nov 2024</td>  <th>  AIC                </th> <td>-1303.085</td>\n",
       "</tr>\n",
       "<tr>\n",
       "  <th>Time:</th>              <td>13:30:02</td>      <th>  BIC                </th> <td>-1296.058</td>\n",
       "</tr>\n",
       "<tr>\n",
       "  <th>Sample:</th>                <td>5</td>         <th>  HQIC               </th> <td>-1300.256</td>\n",
       "</tr>\n",
       "<tr>\n",
       "  <th></th>                      <td>253</td>        <th>                     </th>     <td> </td>    \n",
       "</tr>\n",
       "</table>\n",
       "<table class=\"simpletable\">\n",
       "<tr>\n",
       "         <td></td>           <th>coef</th>     <th>std err</th>      <th>z</th>      <th>P>|z|</th>  <th>[0.025</th>    <th>0.975]</th>  \n",
       "</tr>\n",
       "<tr>\n",
       "  <th>Log_Returns.L5</th> <td>   -0.1389</td> <td>    0.063</td> <td>   -2.191</td> <td> 0.028</td> <td>   -0.263</td> <td>   -0.015</td>\n",
       "</tr>\n",
       "</table>\n",
       "<table class=\"simpletable\">\n",
       "<caption>Roots</caption>\n",
       "<tr>\n",
       "    <td></td>   <th>            Real</th>  <th>         Imaginary</th> <th>         Modulus</th>  <th>        Frequency</th>\n",
       "</tr>\n",
       "<tr>\n",
       "  <th>AR.1</th> <td>          -1.4840</td> <td>          -0.0000j</td> <td>           1.4840</td> <td>          -0.5000</td>\n",
       "</tr>\n",
       "<tr>\n",
       "  <th>AR.2</th> <td>          -0.4586</td> <td>          -1.4114j</td> <td>           1.4840</td> <td>          -0.3000</td>\n",
       "</tr>\n",
       "<tr>\n",
       "  <th>AR.3</th> <td>          -0.4586</td> <td>          +1.4114j</td> <td>           1.4840</td> <td>           0.3000</td>\n",
       "</tr>\n",
       "<tr>\n",
       "  <th>AR.4</th> <td>           1.2006</td> <td>          -0.8723j</td> <td>           1.4840</td> <td>          -0.1000</td>\n",
       "</tr>\n",
       "<tr>\n",
       "  <th>AR.5</th> <td>           1.2006</td> <td>          +0.8723j</td> <td>           1.4840</td> <td>           0.1000</td>\n",
       "</tr>\n",
       "</table>"
      ],
      "text/latex": [
       "\\begin{center}\n",
       "\\begin{tabular}{lclc}\n",
       "\\toprule\n",
       "\\textbf{Dep. Variable:}  &        Log\\_Returns       & \\textbf{  No. Observations:  } &            253             \\\\\n",
       "\\textbf{Model:}          &     Restr. AutoReg(5)     & \\textbf{  Log Likelihood     } &          653.543           \\\\\n",
       "\\textbf{Method:}         &      Conditional MLE      & \\textbf{  S.D. of innovations} &           0.017            \\\\\n",
       "\\textbf{Date:}           &      Wed, 20 Nov 2024     & \\textbf{  AIC                } &         -1303.085          \\\\\n",
       "\\textbf{Time:}           &          13:30:02         & \\textbf{  BIC                } &         -1296.058          \\\\\n",
       "\\textbf{Sample:}         &             5             & \\textbf{  HQIC               } &         -1300.256          \\\\\n",
       "\\textbf{}                &            253            & \\textbf{                     } &                            \\\\\n",
       "\\bottomrule\n",
       "\\end{tabular}\n",
       "\\begin{tabular}{lcccccc}\n",
       "                         & \\textbf{coef} & \\textbf{std err} & \\textbf{z} & \\textbf{P$> |$z$|$} & \\textbf{[0.025} & \\textbf{0.975]}  \\\\\n",
       "\\midrule\n",
       "\\textbf{Log\\_Returns.L5} &      -0.1389  &        0.063     &    -2.191  &         0.028        &       -0.263    &       -0.015     \\\\\n",
       "\\bottomrule\n",
       "\\end{tabular}\n",
       "\\begin{tabular}{lcccc}\n",
       "              & \\textbf{            Real} & \\textbf{         Imaginary} & \\textbf{         Modulus} & \\textbf{        Frequency}  \\\\\n",
       "\\midrule\n",
       "\\textbf{AR.1} &               -1.4840     &                -0.0000j     &                1.4840     &               -0.5000       \\\\\n",
       "\\textbf{AR.2} &               -0.4586     &                -1.4114j     &                1.4840     &               -0.3000       \\\\\n",
       "\\textbf{AR.3} &               -0.4586     &                +1.4114j     &                1.4840     &                0.3000       \\\\\n",
       "\\textbf{AR.4} &                1.2006     &                -0.8723j     &                1.4840     &               -0.1000       \\\\\n",
       "\\textbf{AR.5} &                1.2006     &                +0.8723j     &                1.4840     &                0.1000       \\\\\n",
       "\\bottomrule\n",
       "\\end{tabular}\n",
       "%\\caption{AutoReg Model Results}\n",
       "\\end{center}"
      ],
      "text/plain": [
       "<class 'statsmodels.iolib.summary.Summary'>\n",
       "\"\"\"\n",
       "                            AutoReg Model Results                             \n",
       "==============================================================================\n",
       "Dep. Variable:            Log_Returns   No. Observations:                  253\n",
       "Model:              Restr. AutoReg(5)   Log Likelihood                 653.543\n",
       "Method:               Conditional MLE   S.D. of innovations              0.017\n",
       "Date:                Wed, 20 Nov 2024   AIC                          -1303.085\n",
       "Time:                        13:30:02   BIC                          -1296.058\n",
       "Sample:                             5   HQIC                         -1300.256\n",
       "                                  253                                         \n",
       "==================================================================================\n",
       "                     coef    std err          z      P>|z|      [0.025      0.975]\n",
       "----------------------------------------------------------------------------------\n",
       "Log_Returns.L5    -0.1389      0.063     -2.191      0.028      -0.263      -0.015\n",
       "                                    Roots                                    \n",
       "=============================================================================\n",
       "                  Real          Imaginary           Modulus         Frequency\n",
       "-----------------------------------------------------------------------------\n",
       "AR.1           -1.4840           -0.0000j            1.4840           -0.5000\n",
       "AR.2           -0.4586           -1.4114j            1.4840           -0.3000\n",
       "AR.3           -0.4586           +1.4114j            1.4840            0.3000\n",
       "AR.4            1.2006           -0.8723j            1.4840           -0.1000\n",
       "AR.5            1.2006           +0.8723j            1.4840            0.1000\n",
       "-----------------------------------------------------------------------------\n",
       "\"\"\""
      ]
     },
     "execution_count": 91,
     "metadata": {},
     "output_type": "execute_result"
    }
   ],
   "source": [
    "# выведем результаты \n",
    "auto_reg_res.summary()"
   ]
  },
  {
   "cell_type": "code",
   "execution_count": 93,
   "id": "4843278f-6672-419f-b9c8-892715d600d8",
   "metadata": {},
   "outputs": [
    {
     "name": "stdout",
     "output_type": "stream",
     "text": [
      "AR(1)'s AIC :  -1303.0850698659754  < AR(2)'s AIC :  -1299.8453684634296  < AR(6)'s AIC :  -1292.7951045173133\n",
      "AR(1)'s BIC :  -1296.0582123736453  < AR(2)'s BIC :  -1289.3172034535457  < AR(6)'s BIC :  -1264.7199978242895\n",
      "AR(1)'s HQIC : -1300.2563230395285 < AR(2)'s HQIC : -1295.6066468195313 < AR(6)'s HQIC : -1281.4918468002509\n",
      "AR(1)'s Log Likelihood : 653.5425349329877 > AR(2)'s Log Likelihood : 652.9226842317148 < AR(6)'s Log Likelihood : 654.3975522586567\n"
     ]
    }
   ],
   "source": [
    "# сравним метрические показатели моделей AR(6), AR(2), AR(1)\n",
    "print(f'AR(1)\\'s AIC :  {auto_reg_res.aic}  < AR(2)\\'s AIC :  {auto_reg_mod.aic}  < AR(6)\\'s AIC :  {auto_reg.aic}')\n",
    "print(f'AR(1)\\'s BIC :  {auto_reg_res.bic}  < AR(2)\\'s BIC :  {auto_reg_mod.bic}  < AR(6)\\'s BIC :  {auto_reg.bic}')\n",
    "print(f'AR(1)\\'s HQIC : {auto_reg_res.hqic} < AR(2)\\'s HQIC : {auto_reg_mod.hqic} < AR(6)\\'s HQIC : {auto_reg.hqic}')\n",
    "print(f'AR(1)\\'s Log Likelihood : {auto_reg_res.llf} > AR(2)\\'s Log Likelihood : {auto_reg_mod.llf} < AR(6)\\'s Log Likelihood : {auto_reg.llf}')"
   ]
  },
  {
   "cell_type": "code",
   "execution_count": 95,
   "id": "77735b6e-f8b8-4949-bb6d-a3af1380c398",
   "metadata": {},
   "outputs": [
    {
     "name": "stdout",
     "output_type": "stream",
     "text": [
      "L5 : p-value = 0.02844020937704212 < 0.05\n"
     ]
    }
   ],
   "source": [
    "# сравним p-value с уровнем значимости 5%\n",
    "print(f'L5 : p-value = {auto_reg_res.pvalues.iloc[0]} < 0.05')"
   ]
  },
  {
   "cell_type": "code",
   "execution_count": 97,
   "id": "830c132d-cdb9-4120-a654-29192daa9d0d",
   "metadata": {},
   "outputs": [
    {
     "name": "stdout",
     "output_type": "stream",
     "text": [
      "Корни AR-полинома : abs(roots) = [1.48404437 1.48404437 1.48404437 1.48404437 1.48404437] > 1 указывают на стабильность модели.\n"
     ]
    }
   ],
   "source": [
    "print(f'Корни AR-полинома : abs(roots) = {abs(auto_reg_res.roots)} > 1 указывают на стабильность модели.')"
   ]
  },
  {
   "cell_type": "markdown",
   "id": "72c4d761-0b04-4089-bf93-bc971cb4c69f",
   "metadata": {},
   "source": [
    "Полученную модель можно признать оптимальной из рассматриваемых."
   ]
  },
  {
   "cell_type": "markdown",
   "id": "adb8932f-06c3-49e5-a55c-695568f5673d",
   "metadata": {},
   "source": [
    "Проверим остатки на коррелированность.\n",
    "Выдвигаем гипотезы:\n",
    "* H0: остатки некоррелированы\n",
    "* H1: остатки коррелированы"
   ]
  },
  {
   "cell_type": "code",
   "execution_count": 101,
   "id": "77f51e95-b30b-45e6-85f6-c532e7400cf0",
   "metadata": {},
   "outputs": [
    {
     "data": {
      "text/html": [
       "<div>\n",
       "<style scoped>\n",
       "    .dataframe tbody tr th:only-of-type {\n",
       "        vertical-align: middle;\n",
       "    }\n",
       "\n",
       "    .dataframe tbody tr th {\n",
       "        vertical-align: top;\n",
       "    }\n",
       "\n",
       "    .dataframe thead th {\n",
       "        text-align: right;\n",
       "    }\n",
       "</style>\n",
       "<table border=\"1\" class=\"dataframe\">\n",
       "  <thead>\n",
       "    <tr style=\"text-align: right;\">\n",
       "      <th></th>\n",
       "      <th>lb_stat</th>\n",
       "      <th>lb_pvalue</th>\n",
       "    </tr>\n",
       "  </thead>\n",
       "  <tbody>\n",
       "    <tr>\n",
       "      <th>10</th>\n",
       "      <td>7.094439</td>\n",
       "      <td>0.7165</td>\n",
       "    </tr>\n",
       "  </tbody>\n",
       "</table>\n",
       "</div>"
      ],
      "text/plain": [
       "     lb_stat  lb_pvalue\n",
       "10  7.094439     0.7165"
      ]
     },
     "execution_count": 101,
     "metadata": {},
     "output_type": "execute_result"
    }
   ],
   "source": [
    "# применим тест Юнга-Бокса \n",
    "ljungbox_test = acorr_ljungbox(auto_reg_res.resid, lags=[10], return_df=True)\n",
    "ljungbox_test"
   ]
  },
  {
   "cell_type": "code",
   "execution_count": 103,
   "id": "5c8ccaa5-c6f3-40d9-8124-ca89bb13e684",
   "metadata": {},
   "outputs": [
    {
     "name": "stdout",
     "output_type": "stream",
     "text": [
      "Так как p-value = 0.7165003077062225 > 0.05, значит гипотеза H0 не отвергается\n"
     ]
    }
   ],
   "source": [
    "print(f'Так как p-value = {ljungbox_test.lb_pvalue[10]} > 0.05, значит гипотеза H0 не отвергается')"
   ]
  },
  {
   "cell_type": "markdown",
   "id": "0b0596ff-f5a1-4cdb-901d-0b84f9f60c87",
   "metadata": {},
   "source": [
    "Следовательно, остатки модели можно считать некоррелированными и признать белым шумом."
   ]
  },
  {
   "cell_type": "code",
   "execution_count": 106,
   "id": "adb2ab24-95ae-4b2c-97c0-1c69387c31fd",
   "metadata": {},
   "outputs": [
    {
     "data": {
      "text/plain": [
       "253   -0.000537\n",
       "254    0.002941\n",
       "255   -0.004351\n",
       "256   -0.000019\n",
       "257   -0.000378\n",
       "dtype: float64"
      ]
     },
     "execution_count": 106,
     "metadata": {},
     "output_type": "execute_result"
    }
   ],
   "source": [
    "# задаем количество прогнозируемых значений и получим их\n",
    "forecast_steps = 30 \n",
    "forecast = auto_reg_res.predict(start=len(log_returns), end=len(log_returns) + forecast_steps - 1)\n",
    "forecast.head()"
   ]
  },
  {
   "cell_type": "code",
   "execution_count": 108,
   "id": "ef3d983a-3846-4b3a-92c2-7358da31460a",
   "metadata": {},
   "outputs": [
    {
     "data": {
      "text/plain": [
       "Date\n",
       "2024-11-14 00:00:00+00:00    0.003866\n",
       "2024-11-15 00:00:00+00:00   -0.021171\n",
       "2024-11-18 00:00:00+00:00    0.031318\n",
       "2024-11-19 00:00:00+00:00    0.000136\n",
       "2024-11-20 00:00:00+00:00    0.002724\n",
       "Name: Log_Returns, dtype: float64"
      ]
     },
     "execution_count": 108,
     "metadata": {},
     "output_type": "execute_result"
    }
   ],
   "source": [
    "# вывод последних известных (исторических) значений\n",
    "log_returns.tail()"
   ]
  },
  {
   "cell_type": "code",
   "execution_count": 110,
   "id": "aed6a109-5ad0-4370-836a-60007f267c8e",
   "metadata": {},
   "outputs": [
    {
     "data": {
      "text/plain": [
       "2024-11-21 00:00:00+00:00   -0.000537\n",
       "2024-11-22 00:00:00+00:00    0.002941\n",
       "2024-11-25 00:00:00+00:00   -0.004351\n",
       "2024-11-26 00:00:00+00:00   -0.000019\n",
       "2024-11-27 00:00:00+00:00   -0.000378\n",
       "Freq: B, dtype: float64"
      ]
     },
     "execution_count": 110,
     "metadata": {},
     "output_type": "execute_result"
    }
   ],
   "source": [
    "# создаем новый индекс для прогноза (рабочие дни, исключая выходные)\n",
    "forecast_dates = pd.bdate_range(start=log_returns.index[-1] + pd.Timedelta(days=1), periods=forecast_steps)\n",
    "\n",
    "# привязка прогноза к новым датам\n",
    "forecast.index = forecast_dates\n",
    "\n",
    "# вывод первых прогнозируемых значений\n",
    "forecast.head()"
   ]
  },
  {
   "cell_type": "code",
   "execution_count": 112,
   "id": "5b5f16a2-2421-4766-a507-132f3c0c0164",
   "metadata": {},
   "outputs": [
    {
     "data": {
      "image/png": "[encoded data removed]",
      "text/plain": [
       "<Figure size 1200x600 with 1 Axes>"
      ]
     },
     "metadata": {},
     "output_type": "display_data"
    }
   ],
   "source": [
    "# построение графика исторических и прогнозируемых значений лог-приростов\n",
    "plt.figure(figsize=(12, 6))\n",
    "plt.plot(log_returns, label=\"История\")\n",
    "plt.plot(forecast, label=\"Прогноз\", color=\"red\")\n",
    "plt.legend()\n",
    "plt.title(\"Лог-приросты цен на нефть\")\n",
    "plt.show()"
   ]
  },
  {
   "cell_type": "code",
   "execution_count": 114,
   "id": "2b534275-4033-4ef6-9d6b-9f99e9e8ed4f",
   "metadata": {},
   "outputs": [],
   "source": [
    "# за начальную цену примем последнее известное значение цены из задачи 2\n",
    "initial_price = df['BZ=F'].iloc[-1]  # Например, цена на последний день наблюдений\n",
    "\n",
    "# восстановление цен из лог-приростов\n",
    "price_forecast = [initial_price]\n",
    "for log_return in forecast.dropna():\n",
    "    price_forecast.append(price_forecast[-1] * np.exp(log_return))\n",
    "\n",
    "#создание датафрейма\n",
    "price_forecast_df = pd.DataFrame(price_forecast)"
   ]
  },
  {
   "cell_type": "code",
   "execution_count": 116,
   "id": "92f2a8d2-dd14-4e10-8fe6-f1e967d3fcd1",
   "metadata": {},
   "outputs": [],
   "source": [
    "# привязка прогноза к датам\n",
    "price_forecast_dates = pd.DatetimeIndex([log_returns.index[-1]]).append(forecast_dates)\n",
    "price_forecast_df.index = price_forecast_dates"
   ]
  },
  {
   "cell_type": "code",
   "execution_count": 118,
   "id": "f3514497-3b5c-4dba-aa73-f8c1a0292b54",
   "metadata": {},
   "outputs": [
    {
     "data": {
      "image/png": "[encoded data removed]",
      "text/plain": [
       "<Figure size 1200x600 with 1 Axes>"
      ]
     },
     "metadata": {},
     "output_type": "display_data"
    }
   ],
   "source": [
    "# построение графика цен на нефть\n",
    "plt.figure(figsize=(12, 6))\n",
    "plt.plot(price_forecast_dates, price_forecast, label=\"Прогноз\", color='green')\n",
    "plt.plot(df['BZ=F'], label=\"История\")\n",
    "plt.title(\"Цены на нефть\")\n",
    "plt.legend()\n",
    "plt.show()"
   ]
  },
  {
   "cell_type": "markdown",
   "id": "1750e498-dfab-4ee6-aecb-3240a3606feb",
   "metadata": {},
   "source": [
    "## Ответ: исследование автокорреляции указало на значимые лаги 5 и 6. Были построены авторегрессионные модели, среди них выбрана модель с единственным значимым параметром - лагом 5. На основании модели были построены прогнозы лог-приростов цены не нефть и непосредственно цены на нефть. Однако прогноз недостаточно информативен, модель требует усложнения для получения более точных значений."
   ]
  }
 ],
 "metadata": {
  "kernelspec": {
   "display_name": "Python 3 (ipykernel)",
   "language": "python",
   "name": "python3"
  },
  "language_info": {
   "codemirror_mode": {
    "name": "ipython",
    "version": 3
   },
   "file_extension": ".py",
   "mimetype": "text/x-python",
   "name": "python",
   "nbconvert_exporter": "python",
   "pygments_lexer": "ipython3",
   "version": "3.12.4"
  }
 },
 "nbformat": 4,
 "nbformat_minor": 5
}
